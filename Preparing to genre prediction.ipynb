{
 "cells": [
  {
   "cell_type": "code",
   "execution_count": 87,
   "id": "25d475b5",
   "metadata": {},
   "outputs": [],
   "source": [
    "import pandas as pd\n",
    "import re\n",
    "import numpy as np\n",
    "import json\n",
    "import matplotlib.pyplot as plt\n",
    "import seaborn as sns\n",
    "# import plotly.express as px\n",
    "from sklearn.preprocessing import LabelEncoder\n",
    "from sklearn.metrics import confusion_matrix\n",
    "from collections import Counter\n",
    "\n",
    "from simpletransformers.classification import ClassificationModel"
   ]
  },
  {
   "cell_type": "code",
   "execution_count": 268,
   "id": "64758bdc",
   "metadata": {},
   "outputs": [],
   "source": [
    "import streamlit"
   ]
  },
  {
   "cell_type": "code",
   "execution_count": 274,
   "id": "0a79ff0d",
   "metadata": {},
   "outputs": [
    {
     "data": {
      "text/plain": [
       "<module 'streamlit.version' from '/Users/alex/opt/anaconda3/envs/st/lib/python3.8/site-packages/streamlit/version.py'>"
      ]
     },
     "execution_count": 274,
     "metadata": {},
     "output_type": "execute_result"
    }
   ],
   "source": [
    "streamlit.version"
   ]
  },
  {
   "cell_type": "code",
   "execution_count": 5,
   "id": "73601eea",
   "metadata": {},
   "outputs": [
    {
     "name": "stdout",
     "output_type": "stream",
     "text": [
      "Extending_dataset.ipynb\r\n",
      "Genre_prediction.ipynb\r\n",
      "Genres.csv\r\n",
      "IMDB Dataset.csv\r\n",
      "Prepared_imdb_data.pkl\r\n",
      "Preparing to genre prediction.ipynb\r\n",
      "Researching_dataset.ipynb\r\n",
      "Sent_bert.ipynb\r\n",
      "Sentimental analisys.ipynb\r\n",
      "\u001b[34maclImdb\u001b[m\u001b[m/\r\n",
      "aclImdb_v1.tar.gz.tar.gz\r\n",
      "\u001b[34marchive\u001b[m\u001b[m/\r\n",
      "archive.zip\r\n",
      "\u001b[34mbackup\u001b[m\u001b[m/\r\n",
      "\u001b[34mbefore_data_cleaning\u001b[m\u001b[m/\r\n",
      "before_data_cleaning-20230114T182908Z-001.zip\r\n",
      "\u001b[34mcache_dir\u001b[m\u001b[m/\r\n",
      "extended_dataset.csv\r\n",
      "extended_dataset.csv.zip\r\n",
      "for_genre_prediction.csv\r\n",
      "full_to_genre_prediction.csv\r\n",
      "kinopoisk-top250.csv\r\n",
      "\u001b[34moutputs\u001b[m\u001b[m/\r\n",
      "prepared_imdb.csv\r\n",
      "\u001b[34mruns\u001b[m\u001b[m/\r\n",
      "trmodel\r\n",
      "wiki_movie_plots_deduped.csv\r\n",
      "with_predicted_genres.csv\r\n",
      "with_sentiment.csv\r\n",
      "Марат Гарафутдинов. Школа DS. Итоговый проект (1).docx\r\n",
      "Кинопоиск.ipynb\r\n",
      "Кинопоиск_250.ipynb\r\n"
     ]
    }
   ],
   "source": [
    "%ls"
   ]
  },
  {
   "cell_type": "code",
   "execution_count": 6,
   "id": "6d061e03",
   "metadata": {},
   "outputs": [],
   "source": [
    "df = pd.read_csv('extended_dataset.csv')"
   ]
  },
  {
   "cell_type": "code",
   "execution_count": 7,
   "id": "a32f9bfe",
   "metadata": {},
   "outputs": [
    {
     "name": "stdout",
     "output_type": "stream",
     "text": [
      "<class 'pandas.core.frame.DataFrame'>\n",
      "RangeIndex: 39686 entries, 0 to 39685\n",
      "Data columns (total 9 columns):\n",
      " #   Column            Non-Null Count  Dtype  \n",
      "---  ------            --------------  -----  \n",
      " 0   Unnamed: 0        39686 non-null  int64  \n",
      " 1   Release Year      39685 non-null  float64\n",
      " 2   Title             39686 non-null  object \n",
      " 3   Origin/Ethnicity  39686 non-null  object \n",
      " 4   Director          39656 non-null  object \n",
      " 5   Cast              38222 non-null  object \n",
      " 6   Genre             39658 non-null  object \n",
      " 7   Url               36598 non-null  object \n",
      " 8   Plot              39686 non-null  object \n",
      "dtypes: float64(1), int64(1), object(7)\n",
      "memory usage: 2.7+ MB\n"
     ]
    }
   ],
   "source": [
    "df.info()"
   ]
  },
  {
   "cell_type": "code",
   "execution_count": 8,
   "id": "3d5bacf2",
   "metadata": {},
   "outputs": [
    {
     "data": {
      "text/html": [
       "<div>\n",
       "<style scoped>\n",
       "    .dataframe tbody tr th:only-of-type {\n",
       "        vertical-align: middle;\n",
       "    }\n",
       "\n",
       "    .dataframe tbody tr th {\n",
       "        vertical-align: top;\n",
       "    }\n",
       "\n",
       "    .dataframe thead th {\n",
       "        text-align: right;\n",
       "    }\n",
       "</style>\n",
       "<table border=\"1\" class=\"dataframe\">\n",
       "  <thead>\n",
       "    <tr style=\"text-align: right;\">\n",
       "      <th></th>\n",
       "      <th>Unnamed: 0</th>\n",
       "      <th>Release Year</th>\n",
       "      <th>Title</th>\n",
       "      <th>Origin/Ethnicity</th>\n",
       "      <th>Director</th>\n",
       "      <th>Cast</th>\n",
       "      <th>Genre</th>\n",
       "      <th>Url</th>\n",
       "      <th>Plot</th>\n",
       "    </tr>\n",
       "  </thead>\n",
       "  <tbody>\n",
       "    <tr>\n",
       "      <th>0</th>\n",
       "      <td>0</td>\n",
       "      <td>1901.0</td>\n",
       "      <td>Kansas Saloon Smashers</td>\n",
       "      <td>American</td>\n",
       "      <td>Unknown</td>\n",
       "      <td>NaN</td>\n",
       "      <td>unknown</td>\n",
       "      <td>https://en.wikipedia.org/wiki/Kansas_Saloon_Sm...</td>\n",
       "      <td>A bartender is working at a saloon, serving dr...</td>\n",
       "    </tr>\n",
       "    <tr>\n",
       "      <th>1</th>\n",
       "      <td>1</td>\n",
       "      <td>1901.0</td>\n",
       "      <td>Love by the Light of the Moon</td>\n",
       "      <td>American</td>\n",
       "      <td>Unknown</td>\n",
       "      <td>NaN</td>\n",
       "      <td>unknown</td>\n",
       "      <td>https://en.wikipedia.org/wiki/Love_by_the_Ligh...</td>\n",
       "      <td>The moon, painted with a smiling face hangs ov...</td>\n",
       "    </tr>\n",
       "    <tr>\n",
       "      <th>2</th>\n",
       "      <td>2</td>\n",
       "      <td>1901.0</td>\n",
       "      <td>The Martyred Presidents</td>\n",
       "      <td>American</td>\n",
       "      <td>Unknown</td>\n",
       "      <td>NaN</td>\n",
       "      <td>unknown</td>\n",
       "      <td>https://en.wikipedia.org/wiki/The_Martyred_Pre...</td>\n",
       "      <td>The film, just over a minute long, is composed...</td>\n",
       "    </tr>\n",
       "    <tr>\n",
       "      <th>3</th>\n",
       "      <td>3</td>\n",
       "      <td>1901.0</td>\n",
       "      <td>Terrible Teddy, the Grizzly King</td>\n",
       "      <td>American</td>\n",
       "      <td>Unknown</td>\n",
       "      <td>NaN</td>\n",
       "      <td>unknown</td>\n",
       "      <td>https://en.wikipedia.org/wiki/Terrible_Teddy,_...</td>\n",
       "      <td>Lasting just 61 seconds and consisting of two ...</td>\n",
       "    </tr>\n",
       "    <tr>\n",
       "      <th>4</th>\n",
       "      <td>4</td>\n",
       "      <td>1902.0</td>\n",
       "      <td>Jack and the Beanstalk</td>\n",
       "      <td>American</td>\n",
       "      <td>George S. Fleming, Edwin S. Porter</td>\n",
       "      <td>NaN</td>\n",
       "      <td>unknown</td>\n",
       "      <td>https://en.wikipedia.org/wiki/Jack_and_the_Bea...</td>\n",
       "      <td>The earliest known adaptation of the classic f...</td>\n",
       "    </tr>\n",
       "  </tbody>\n",
       "</table>\n",
       "</div>"
      ],
      "text/plain": [
       "   Unnamed: 0  Release Year                             Title  \\\n",
       "0           0        1901.0            Kansas Saloon Smashers   \n",
       "1           1        1901.0     Love by the Light of the Moon   \n",
       "2           2        1901.0           The Martyred Presidents   \n",
       "3           3        1901.0  Terrible Teddy, the Grizzly King   \n",
       "4           4        1902.0            Jack and the Beanstalk   \n",
       "\n",
       "  Origin/Ethnicity                            Director Cast    Genre  \\\n",
       "0         American                             Unknown  NaN  unknown   \n",
       "1         American                             Unknown  NaN  unknown   \n",
       "2         American                             Unknown  NaN  unknown   \n",
       "3         American                             Unknown  NaN  unknown   \n",
       "4         American  George S. Fleming, Edwin S. Porter  NaN  unknown   \n",
       "\n",
       "                                                 Url  \\\n",
       "0  https://en.wikipedia.org/wiki/Kansas_Saloon_Sm...   \n",
       "1  https://en.wikipedia.org/wiki/Love_by_the_Ligh...   \n",
       "2  https://en.wikipedia.org/wiki/The_Martyred_Pre...   \n",
       "3  https://en.wikipedia.org/wiki/Terrible_Teddy,_...   \n",
       "4  https://en.wikipedia.org/wiki/Jack_and_the_Bea...   \n",
       "\n",
       "                                                Plot  \n",
       "0  A bartender is working at a saloon, serving dr...  \n",
       "1  The moon, painted with a smiling face hangs ov...  \n",
       "2  The film, just over a minute long, is composed...  \n",
       "3  Lasting just 61 seconds and consisting of two ...  \n",
       "4  The earliest known adaptation of the classic f...  "
      ]
     },
     "execution_count": 8,
     "metadata": {},
     "output_type": "execute_result"
    }
   ],
   "source": [
    "df.head(5)"
   ]
  },
  {
   "cell_type": "code",
   "execution_count": 9,
   "id": "dac47db1",
   "metadata": {},
   "outputs": [
    {
     "name": "stdout",
     "output_type": "stream",
     "text": [
      "<class 'pandas.core.frame.DataFrame'>\n",
      "RangeIndex: 39686 entries, 0 to 39685\n",
      "Data columns (total 9 columns):\n",
      " #   Column            Non-Null Count  Dtype  \n",
      "---  ------            --------------  -----  \n",
      " 0   Unnamed: 0        39686 non-null  int64  \n",
      " 1   Release Year      39685 non-null  float64\n",
      " 2   Title             39686 non-null  object \n",
      " 3   Origin/Ethnicity  39686 non-null  object \n",
      " 4   Director          39656 non-null  object \n",
      " 5   Cast              38222 non-null  object \n",
      " 6   Genre             39658 non-null  object \n",
      " 7   Url               36598 non-null  object \n",
      " 8   Plot              39686 non-null  object \n",
      "dtypes: float64(1), int64(1), object(7)\n",
      "memory usage: 2.7+ MB\n"
     ]
    }
   ],
   "source": [
    "df.info() # посмотрим на общую картинку"
   ]
  },
  {
   "cell_type": "code",
   "execution_count": 10,
   "id": "df78b062",
   "metadata": {},
   "outputs": [
    {
     "data": {
      "text/plain": [
       "Unnamed: 0          6083\n",
       "Release Year        6083\n",
       "Title               6083\n",
       "Origin/Ethnicity    6083\n",
       "Director            6083\n",
       "Cast                5400\n",
       "Genre               6083\n",
       "Url                 6083\n",
       "Plot                6083\n",
       "dtype: int64"
      ]
     },
     "execution_count": 10,
     "metadata": {},
     "output_type": "execute_result"
    }
   ],
   "source": [
    "df[df['Genre'] == 'unknown'].count()"
   ]
  },
  {
   "cell_type": "code",
   "execution_count": 11,
   "id": "1a015a23",
   "metadata": {},
   "outputs": [],
   "source": [
    "df.replace('unknown', np.nan, inplace=True) #Немного причешем датасет\n",
    "df.replace('Unknown', np.nan, inplace=True)\n",
    "\n",
    "df.dropna(subset=['Plot',], inplace=True) # выкинем все, что без описания и обновим индексы\n",
    "df.reset_index(drop=True, inplace=True)\n",
    "\n",
    "df.drop('Unnamed: 0', axis=1, inplace=True) # дропнем лишнюю колонку\n",
    "\n"
   ]
  },
  {
   "cell_type": "code",
   "execution_count": 12,
   "id": "94676469",
   "metadata": {},
   "outputs": [
    {
     "data": {
      "text/html": [
       "<div>\n",
       "<style scoped>\n",
       "    .dataframe tbody tr th:only-of-type {\n",
       "        vertical-align: middle;\n",
       "    }\n",
       "\n",
       "    .dataframe tbody tr th {\n",
       "        vertical-align: top;\n",
       "    }\n",
       "\n",
       "    .dataframe thead th {\n",
       "        text-align: right;\n",
       "    }\n",
       "</style>\n",
       "<table border=\"1\" class=\"dataframe\">\n",
       "  <thead>\n",
       "    <tr style=\"text-align: right;\">\n",
       "      <th></th>\n",
       "      <th>Release Year</th>\n",
       "      <th>Title</th>\n",
       "      <th>Origin/Ethnicity</th>\n",
       "      <th>Director</th>\n",
       "      <th>Cast</th>\n",
       "      <th>Genre</th>\n",
       "      <th>Url</th>\n",
       "      <th>Plot</th>\n",
       "    </tr>\n",
       "  </thead>\n",
       "  <tbody>\n",
       "    <tr>\n",
       "      <th>0</th>\n",
       "      <td>1901.0</td>\n",
       "      <td>Kansas Saloon Smashers</td>\n",
       "      <td>American</td>\n",
       "      <td>NaN</td>\n",
       "      <td>NaN</td>\n",
       "      <td>NaN</td>\n",
       "      <td>https://en.wikipedia.org/wiki/Kansas_Saloon_Sm...</td>\n",
       "      <td>A bartender is working at a saloon, serving dr...</td>\n",
       "    </tr>\n",
       "    <tr>\n",
       "      <th>1</th>\n",
       "      <td>1901.0</td>\n",
       "      <td>Love by the Light of the Moon</td>\n",
       "      <td>American</td>\n",
       "      <td>NaN</td>\n",
       "      <td>NaN</td>\n",
       "      <td>NaN</td>\n",
       "      <td>https://en.wikipedia.org/wiki/Love_by_the_Ligh...</td>\n",
       "      <td>The moon, painted with a smiling face hangs ov...</td>\n",
       "    </tr>\n",
       "    <tr>\n",
       "      <th>2</th>\n",
       "      <td>1901.0</td>\n",
       "      <td>The Martyred Presidents</td>\n",
       "      <td>American</td>\n",
       "      <td>NaN</td>\n",
       "      <td>NaN</td>\n",
       "      <td>NaN</td>\n",
       "      <td>https://en.wikipedia.org/wiki/The_Martyred_Pre...</td>\n",
       "      <td>The film, just over a minute long, is composed...</td>\n",
       "    </tr>\n",
       "    <tr>\n",
       "      <th>3</th>\n",
       "      <td>1901.0</td>\n",
       "      <td>Terrible Teddy, the Grizzly King</td>\n",
       "      <td>American</td>\n",
       "      <td>NaN</td>\n",
       "      <td>NaN</td>\n",
       "      <td>NaN</td>\n",
       "      <td>https://en.wikipedia.org/wiki/Terrible_Teddy,_...</td>\n",
       "      <td>Lasting just 61 seconds and consisting of two ...</td>\n",
       "    </tr>\n",
       "    <tr>\n",
       "      <th>4</th>\n",
       "      <td>1902.0</td>\n",
       "      <td>Jack and the Beanstalk</td>\n",
       "      <td>American</td>\n",
       "      <td>George S. Fleming, Edwin S. Porter</td>\n",
       "      <td>NaN</td>\n",
       "      <td>NaN</td>\n",
       "      <td>https://en.wikipedia.org/wiki/Jack_and_the_Bea...</td>\n",
       "      <td>The earliest known adaptation of the classic f...</td>\n",
       "    </tr>\n",
       "  </tbody>\n",
       "</table>\n",
       "</div>"
      ],
      "text/plain": [
       "   Release Year                             Title Origin/Ethnicity  \\\n",
       "0        1901.0            Kansas Saloon Smashers         American   \n",
       "1        1901.0     Love by the Light of the Moon         American   \n",
       "2        1901.0           The Martyred Presidents         American   \n",
       "3        1901.0  Terrible Teddy, the Grizzly King         American   \n",
       "4        1902.0            Jack and the Beanstalk         American   \n",
       "\n",
       "                             Director Cast Genre  \\\n",
       "0                                 NaN  NaN   NaN   \n",
       "1                                 NaN  NaN   NaN   \n",
       "2                                 NaN  NaN   NaN   \n",
       "3                                 NaN  NaN   NaN   \n",
       "4  George S. Fleming, Edwin S. Porter  NaN   NaN   \n",
       "\n",
       "                                                 Url  \\\n",
       "0  https://en.wikipedia.org/wiki/Kansas_Saloon_Sm...   \n",
       "1  https://en.wikipedia.org/wiki/Love_by_the_Ligh...   \n",
       "2  https://en.wikipedia.org/wiki/The_Martyred_Pre...   \n",
       "3  https://en.wikipedia.org/wiki/Terrible_Teddy,_...   \n",
       "4  https://en.wikipedia.org/wiki/Jack_and_the_Bea...   \n",
       "\n",
       "                                                Plot  \n",
       "0  A bartender is working at a saloon, serving dr...  \n",
       "1  The moon, painted with a smiling face hangs ov...  \n",
       "2  The film, just over a minute long, is composed...  \n",
       "3  Lasting just 61 seconds and consisting of two ...  \n",
       "4  The earliest known adaptation of the classic f...  "
      ]
     },
     "execution_count": 12,
     "metadata": {},
     "output_type": "execute_result"
    }
   ],
   "source": [
    "df.head()"
   ]
  },
  {
   "cell_type": "code",
   "execution_count": null,
   "id": "59577abb",
   "metadata": {},
   "outputs": [],
   "source": []
  },
  {
   "cell_type": "code",
   "execution_count": null,
   "id": "8605c67b",
   "metadata": {},
   "outputs": [],
   "source": []
  },
  {
   "cell_type": "markdown",
   "id": "82ba6b41",
   "metadata": {},
   "source": [
    "### Приведем жанры в порядок"
   ]
  },
  {
   "cell_type": "code",
   "execution_count": 13,
   "id": "cd2d574e",
   "metadata": {},
   "outputs": [],
   "source": [
    "def replacing_film(x):\n",
    "    if type(x) == str:\n",
    "        return x.replace('film', '').lower().strip() # уберем слово \"фильм\", а также приведем всё к одному регистру."
   ]
  },
  {
   "cell_type": "code",
   "execution_count": 14,
   "id": "deed95a0",
   "metadata": {},
   "outputs": [],
   "source": [
    "df['Genre'] = df['Genre'].apply(replacing_film)"
   ]
  },
  {
   "cell_type": "code",
   "execution_count": 15,
   "id": "900e7f74",
   "metadata": {},
   "outputs": [
    {
     "data": {
      "text/plain": [
       "2188"
      ]
     },
     "execution_count": 15,
     "metadata": {},
     "output_type": "execute_result"
    }
   ],
   "source": [
    "df['Genre'].nunique() # итого 2188 жанров на старте"
   ]
  },
  {
   "cell_type": "code",
   "execution_count": 16,
   "id": "400781bf",
   "metadata": {},
   "outputs": [
    {
     "data": {
      "text/plain": [
       "drama               7202\n",
       "comedy              5445\n",
       "action              1874\n",
       "horror              1473\n",
       "thriller            1178\n",
       "romance             1046\n",
       "western              892\n",
       "adventure            867\n",
       "crime                763\n",
       "science fiction      516\n",
       "musical              467\n",
       "romantic comedy      465\n",
       "crime drama          464\n",
       "animation            388\n",
       "mystery              351\n",
       "noir                 345\n",
       "fantasy              321\n",
       "war                  302\n",
       "family               287\n",
       "comedy, drama        240\n",
       "sci-fi               221\n",
       "animated             220\n",
       "documentary          161\n",
       "musical comedy       154\n",
       "comedy-drama         137\n",
       "biography            136\n",
       "anime                112\n",
       "suspense             104\n",
       "comedy drama         104\n",
       "romantic drama       103\n",
       "drama, romance        94\n",
       "animated short        91\n",
       "social                83\n",
       "historical            79\n",
       "action thriller       79\n",
       "serial                71\n",
       "world war ii          70\n",
       "family drama          66\n",
       "war drama             65\n",
       "drama, crime          64\n",
       "comedy, romance       63\n",
       "comedy, musical       63\n",
       "comedy/drama          62\n",
       "romance, drama        58\n",
       "biopic                57\n",
       "crime thriller        56\n",
       "historical drama      54\n",
       "black comedy          52\n",
       "comedy short          51\n",
       "action comedy         51\n",
       "Name: Genre, dtype: int64"
      ]
     },
     "execution_count": 16,
     "metadata": {},
     "output_type": "execute_result"
    }
   ],
   "source": [
    "most_freq_genres = df[\"Genre\"].value_counts()\n",
    "most_freq_genres[:50]"
   ]
  },
  {
   "cell_type": "code",
   "execution_count": 17,
   "id": "c212d9a0",
   "metadata": {},
   "outputs": [],
   "source": [
    "# Собрал все в кучу для использования в другом файле\n",
    "\n",
    "# df['Genre'] = df['Genre'].apply(lambda x: x.replace('sci-fi', 'science fiction').replace('science-fiction', 'science fiction') if x != None else None)\n",
    "\n",
    "# comedy_pattern = r'.*comedy.*'\n",
    "# drama_pattern = r'.*drama.*'\n",
    "# war_pattern = r'.*war.*'\n",
    "# thriller_pattern = r'.*thriller.*'\n",
    "\n",
    "# df['Genre'] = df['Genre'].apply(lambda x: x.replace(re.search(comedy_pattern, x).group(), 'comedy') \n",
    "#                                 if len(re.findall(comedy_pattern, str(x))) != 0 else x)\n",
    "# df['Genre'] = df['Genre'].apply(lambda x: x.replace(re.search(drama_pattern, x).group(), 'drama') \n",
    "#                                 if len(re.findall(drama_pattern, str(x))) != 0 else x)\n",
    "# df['Genre'] = df['Genre'].apply(lambda x: x.replace(re.search(war_pattern, x).group(), 'war') \n",
    "#                                 if len(re.findall(war_pattern, str(x))) != 0 else x)\n",
    "# df['Genre'] = df['Genre'].apply(lambda x: x.replace(re.search(thriller_pattern, x).group(), 'thriller') \n",
    "#                                 if len(re.findall(thriller_pattern, str(x))) != 0 else x)\n",
    "\n",
    "\n",
    "# most_freq_genres = df[\"Genre\"].value_counts()\n",
    "# top25_genres = tuple(most_freq_genres[:25].index)\n",
    "# def regenrator(x): \n",
    "#     '''Выцепим все самые популярные жанры из оставшихся записей'''\n",
    "#     if x is None:\n",
    "#         return np.nan\n",
    "#     if x in top25_genres:\n",
    "#         return x\n",
    "#     else:\n",
    "#         for i in top25_genres:\n",
    "#             if str(i) in str(x):\n",
    "#                 return i\n",
    "#     return x\n",
    "\n",
    "\n",
    "# df[\"Genre\"] = df['Genre'].apply(regenrator)\n",
    "\n",
    "# most_freq_genres = df[\"Genre\"].value_counts()\n",
    "# top30_genres = tuple(most_freq_genres[:30].index)\n",
    "\n",
    "\n",
    "# df.dropna(subset=['Genre'], inplace=True) # выкинем все, что без описания и обновим индексы\n",
    "# df.reset_index(drop=True, inplace=True)\n"
   ]
  },
  {
   "cell_type": "code",
   "execution_count": 18,
   "id": "cabc6c71",
   "metadata": {},
   "outputs": [],
   "source": [
    "df['Genre'] = df['Genre'].apply(lambda x: x.replace('sci-fi', 'science fiction').replace('science-fiction', 'science fiction') if x != None else None)"
   ]
  },
  {
   "cell_type": "code",
   "execution_count": 19,
   "id": "787263e2",
   "metadata": {},
   "outputs": [],
   "source": [
    "comedy_pattern = r'.*comedy.*'\n",
    "drama_pattern = r'.*drama.*'\n",
    "war_pattern = r'.*war.*'\n",
    "thriller_pattern = r'.*thriller.*'"
   ]
  },
  {
   "cell_type": "code",
   "execution_count": 20,
   "id": "9decc52a",
   "metadata": {},
   "outputs": [],
   "source": [
    "df['Genre'] = df['Genre'].apply(lambda x: x.replace(re.search(comedy_pattern, x).group(), 'comedy') \n",
    "                                if len(re.findall(comedy_pattern, str(x))) != 0 else x)\n",
    "df['Genre'] = df['Genre'].apply(lambda x: x.replace(re.search(drama_pattern, x).group(), 'drama') \n",
    "                                if len(re.findall(drama_pattern, str(x))) != 0 else x)\n",
    "df['Genre'] = df['Genre'].apply(lambda x: x.replace(re.search(war_pattern, x).group(), 'war') \n",
    "                                if len(re.findall(war_pattern, str(x))) != 0 else x)\n",
    "df['Genre'] = df['Genre'].apply(lambda x: x.replace(re.search(thriller_pattern, x).group(), 'thriller') \n",
    "                                if len(re.findall(thriller_pattern, str(x))) != 0 else x)"
   ]
  },
  {
   "cell_type": "code",
   "execution_count": 21,
   "id": "c9a6a9f9",
   "metadata": {},
   "outputs": [],
   "source": [
    "most_freq_genres = df[\"Genre\"].value_counts()\n",
    "top25_genres = tuple(most_freq_genres[:25].index)\n",
    "def regenrator(x): \n",
    "    '''Выцепим все самые популярные жанры из оставшихся записей'''\n",
    "    if x is None:\n",
    "        return np.nan\n",
    "    if x in top25_genres:\n",
    "        return x\n",
    "    else:\n",
    "        for i in top25_genres:\n",
    "            if str(i) in str(x):\n",
    "                return i\n",
    "    return x"
   ]
  },
  {
   "cell_type": "code",
   "execution_count": 22,
   "id": "ec23c337",
   "metadata": {},
   "outputs": [],
   "source": [
    "df[\"Genre\"] = df['Genre'].apply(regenrator)\n",
    "df['Genre'] = df['Genre'].apply(lambda x: str(x).replace('animated', 'animation').replace('anime', 'animation') if x != None else None)\n",
    "df['Genre'] = df['Genre'].replace('nan', np.nan)"
   ]
  },
  {
   "cell_type": "code",
   "execution_count": 23,
   "id": "ef2cfc42",
   "metadata": {},
   "outputs": [],
   "source": [
    "most_freq_genres = df[\"Genre\"].value_counts()\n",
    "top20_genres = tuple(most_freq_genres[:20].index)"
   ]
  },
  {
   "cell_type": "code",
   "execution_count": null,
   "id": "99e58897",
   "metadata": {},
   "outputs": [],
   "source": []
  },
  {
   "cell_type": "code",
   "execution_count": 24,
   "id": "86142ec6",
   "metadata": {},
   "outputs": [
    {
     "data": {
      "text/plain": [
       "('drama',\n",
       " 'comedy',\n",
       " 'action',\n",
       " 'thriller',\n",
       " 'horror',\n",
       " 'romance',\n",
       " 'adventure',\n",
       " 'western',\n",
       " 'animation',\n",
       " 'crime',\n",
       " 'science fiction',\n",
       " 'musical',\n",
       " 'war',\n",
       " 'fantasy',\n",
       " 'mystery',\n",
       " 'noir',\n",
       " 'family',\n",
       " 'documentary',\n",
       " 'biography',\n",
       " 'suspense')"
      ]
     },
     "execution_count": 24,
     "metadata": {},
     "output_type": "execute_result"
    }
   ],
   "source": [
    "top20_genres # их оставим, а остальное будет np.nan"
   ]
  },
  {
   "cell_type": "code",
   "execution_count": 25,
   "id": "236cd9c0",
   "metadata": {},
   "outputs": [],
   "source": [
    "def top_20_genres(x):\n",
    "    'Оставим только 20 самых популярных жанров, остальное - nan'\n",
    "    if x in top20_genres:\n",
    "        return x\n",
    "    else:\n",
    "        return np.nan"
   ]
  },
  {
   "cell_type": "code",
   "execution_count": 26,
   "id": "4e41622f",
   "metadata": {},
   "outputs": [],
   "source": [
    "df[\"Genre\"] = df['Genre'].apply(top_20_genres)"
   ]
  },
  {
   "cell_type": "code",
   "execution_count": 27,
   "id": "9d3d68f8",
   "metadata": {},
   "outputs": [
    {
     "data": {
      "text/plain": [
       "drama              9882\n",
       "comedy             8308\n",
       "action             2380\n",
       "thriller           1765\n",
       "horror             1590\n",
       "romance            1150\n",
       "adventure           954\n",
       "western             922\n",
       "animation           796\n",
       "crime               792\n",
       "science fiction     790\n",
       "musical             519\n",
       "war                 450\n",
       "fantasy             382\n",
       "mystery             358\n",
       "noir                350\n",
       "family              320\n",
       "documentary         174\n",
       "biography           144\n",
       "suspense            104\n",
       "Name: Genre, dtype: int64"
      ]
     },
     "execution_count": 27,
     "metadata": {},
     "output_type": "execute_result"
    }
   ],
   "source": [
    "most_freq_genres = df[\"Genre\"].value_counts()\n",
    "most_freq_genres"
   ]
  },
  {
   "cell_type": "code",
   "execution_count": 28,
   "id": "1c8b0801",
   "metadata": {},
   "outputs": [],
   "source": [
    "df.dropna(subset=['Genre'], inplace=True) # выкинем все, что без описания и обновим индексы\n",
    "df.reset_index(drop=True, inplace=True)\n"
   ]
  },
  {
   "cell_type": "code",
   "execution_count": 29,
   "id": "f23a373d",
   "metadata": {},
   "outputs": [
    {
     "data": {
      "text/html": [
       "<div>\n",
       "<style scoped>\n",
       "    .dataframe tbody tr th:only-of-type {\n",
       "        vertical-align: middle;\n",
       "    }\n",
       "\n",
       "    .dataframe tbody tr th {\n",
       "        vertical-align: top;\n",
       "    }\n",
       "\n",
       "    .dataframe thead th {\n",
       "        text-align: right;\n",
       "    }\n",
       "</style>\n",
       "<table border=\"1\" class=\"dataframe\">\n",
       "  <thead>\n",
       "    <tr style=\"text-align: right;\">\n",
       "      <th></th>\n",
       "      <th>Release Year</th>\n",
       "      <th>Title</th>\n",
       "      <th>Origin/Ethnicity</th>\n",
       "      <th>Director</th>\n",
       "      <th>Cast</th>\n",
       "      <th>Genre</th>\n",
       "      <th>Url</th>\n",
       "      <th>Plot</th>\n",
       "    </tr>\n",
       "  </thead>\n",
       "  <tbody>\n",
       "    <tr>\n",
       "      <th>0</th>\n",
       "      <td>1903.0</td>\n",
       "      <td>The Great Train Robbery</td>\n",
       "      <td>American</td>\n",
       "      <td>Edwin S. Porter</td>\n",
       "      <td>NaN</td>\n",
       "      <td>western</td>\n",
       "      <td>https://en.wikipedia.org/wiki/The_Great_Train_...</td>\n",
       "      <td>The film opens with two bandits breaking into ...</td>\n",
       "    </tr>\n",
       "    <tr>\n",
       "      <th>1</th>\n",
       "      <td>1904.0</td>\n",
       "      <td>The Suburbanite</td>\n",
       "      <td>American</td>\n",
       "      <td>Wallace McCutcheon</td>\n",
       "      <td>NaN</td>\n",
       "      <td>comedy</td>\n",
       "      <td>https://en.wikipedia.org/wiki/The_Suburbanite</td>\n",
       "      <td>The film is about a family who move to the sub...</td>\n",
       "    </tr>\n",
       "    <tr>\n",
       "      <th>2</th>\n",
       "      <td>1906.0</td>\n",
       "      <td>From Leadville to Aspen: A Hold-Up in the Rockies</td>\n",
       "      <td>American</td>\n",
       "      <td>Francis J. Marion and Wallace McCutcheon</td>\n",
       "      <td>NaN</td>\n",
       "      <td>action</td>\n",
       "      <td>https://en.wikipedia.org/wiki/From_Leadville_t...</td>\n",
       "      <td>The film features a train traveling through th...</td>\n",
       "    </tr>\n",
       "    <tr>\n",
       "      <th>3</th>\n",
       "      <td>1907.0</td>\n",
       "      <td>How Brown Saw the Baseball Game</td>\n",
       "      <td>American</td>\n",
       "      <td>NaN</td>\n",
       "      <td>NaN</td>\n",
       "      <td>comedy</td>\n",
       "      <td>https://en.wikipedia.org/wiki/How_Brown_Saw_th...</td>\n",
       "      <td>Before heading out to a baseball game at a nea...</td>\n",
       "    </tr>\n",
       "    <tr>\n",
       "      <th>4</th>\n",
       "      <td>1907.0</td>\n",
       "      <td>Laughing Gas</td>\n",
       "      <td>American</td>\n",
       "      <td>Edwin Stanton Porter</td>\n",
       "      <td>Bertha Regustus, Edward Boulden</td>\n",
       "      <td>comedy</td>\n",
       "      <td>https://en.wikipedia.org/wiki/Laughing_Gas_(fi...</td>\n",
       "      <td>The plot is that of a black woman going to the...</td>\n",
       "    </tr>\n",
       "    <tr>\n",
       "      <th>...</th>\n",
       "      <td>...</td>\n",
       "      <td>...</td>\n",
       "      <td>...</td>\n",
       "      <td>...</td>\n",
       "      <td>...</td>\n",
       "      <td>...</td>\n",
       "      <td>...</td>\n",
       "      <td>...</td>\n",
       "    </tr>\n",
       "    <tr>\n",
       "      <th>32125</th>\n",
       "      <td>2004.0</td>\n",
       "      <td>Primer</td>\n",
       "      <td>English</td>\n",
       "      <td>Shane Carruth</td>\n",
       "      <td>Shane Carruth, David Sullivan, Casey Gooden, A...</td>\n",
       "      <td>science fiction</td>\n",
       "      <td>http://www.primermovie.com</td>\n",
       "      <td>Friends/fledgling entrepreneurs invent a devic...</td>\n",
       "    </tr>\n",
       "    <tr>\n",
       "      <th>32126</th>\n",
       "      <td>1992.0</td>\n",
       "      <td>El Mariachi</td>\n",
       "      <td>Spanish; Castilian</td>\n",
       "      <td>Robert Rodriguez</td>\n",
       "      <td>Carlos Gallardo, Jaime de Hoyos, Peter Marquar...</td>\n",
       "      <td>action</td>\n",
       "      <td>NaN</td>\n",
       "      <td>El Mariachi just wants to play his guitar and ...</td>\n",
       "    </tr>\n",
       "    <tr>\n",
       "      <th>32127</th>\n",
       "      <td>2011.0</td>\n",
       "      <td>Newlyweds</td>\n",
       "      <td>English</td>\n",
       "      <td>Edward Burns</td>\n",
       "      <td>Edward Burns, Kerry Bishé, Marsha Dietlein, Ca...</td>\n",
       "      <td>comedy</td>\n",
       "      <td>NaN</td>\n",
       "      <td>A newlywed couple's honeymoon is upended by th...</td>\n",
       "    </tr>\n",
       "    <tr>\n",
       "      <th>32128</th>\n",
       "      <td>2013.0</td>\n",
       "      <td>Signed, Sealed, Delivered</td>\n",
       "      <td>English</td>\n",
       "      <td>Scott Smith</td>\n",
       "      <td>Eric Mabius, Kristin Booth, Crystal Lowe, Geof...</td>\n",
       "      <td>comedy</td>\n",
       "      <td>http://www.hallmarkchannel.com/signedsealeddel...</td>\n",
       "      <td>\"Signed, Sealed, Delivered\" introduces a dedic...</td>\n",
       "    </tr>\n",
       "    <tr>\n",
       "      <th>32129</th>\n",
       "      <td>2005.0</td>\n",
       "      <td>My Date with Drew</td>\n",
       "      <td>English</td>\n",
       "      <td>Brian Herzlinger</td>\n",
       "      <td>Drew Barrymore, Brian Herzlinger, Corey Feldma...</td>\n",
       "      <td>documentary</td>\n",
       "      <td>NaN</td>\n",
       "      <td>Ever since the second grade when he first saw ...</td>\n",
       "    </tr>\n",
       "  </tbody>\n",
       "</table>\n",
       "<p>32130 rows × 8 columns</p>\n",
       "</div>"
      ],
      "text/plain": [
       "       Release Year                                              Title  \\\n",
       "0            1903.0                            The Great Train Robbery   \n",
       "1            1904.0                                    The Suburbanite   \n",
       "2            1906.0  From Leadville to Aspen: A Hold-Up in the Rockies   \n",
       "3            1907.0                    How Brown Saw the Baseball Game   \n",
       "4            1907.0                                       Laughing Gas   \n",
       "...             ...                                                ...   \n",
       "32125        2004.0                                             Primer   \n",
       "32126        1992.0                                        El Mariachi   \n",
       "32127        2011.0                                          Newlyweds   \n",
       "32128        2013.0                          Signed, Sealed, Delivered   \n",
       "32129        2005.0                                  My Date with Drew   \n",
       "\n",
       "         Origin/Ethnicity                                  Director  \\\n",
       "0                American                           Edwin S. Porter   \n",
       "1                American                        Wallace McCutcheon   \n",
       "2                American  Francis J. Marion and Wallace McCutcheon   \n",
       "3                American                                       NaN   \n",
       "4                American                      Edwin Stanton Porter   \n",
       "...                   ...                                       ...   \n",
       "32125             English                             Shane Carruth   \n",
       "32126  Spanish; Castilian                          Robert Rodriguez   \n",
       "32127             English                              Edward Burns   \n",
       "32128             English                               Scott Smith   \n",
       "32129             English                          Brian Herzlinger   \n",
       "\n",
       "                                                    Cast            Genre  \\\n",
       "0                                                    NaN          western   \n",
       "1                                                    NaN           comedy   \n",
       "2                                                    NaN           action   \n",
       "3                                                    NaN           comedy   \n",
       "4                        Bertha Regustus, Edward Boulden           comedy   \n",
       "...                                                  ...              ...   \n",
       "32125  Shane Carruth, David Sullivan, Casey Gooden, A...  science fiction   \n",
       "32126  Carlos Gallardo, Jaime de Hoyos, Peter Marquar...           action   \n",
       "32127  Edward Burns, Kerry Bishé, Marsha Dietlein, Ca...           comedy   \n",
       "32128  Eric Mabius, Kristin Booth, Crystal Lowe, Geof...           comedy   \n",
       "32129  Drew Barrymore, Brian Herzlinger, Corey Feldma...      documentary   \n",
       "\n",
       "                                                     Url  \\\n",
       "0      https://en.wikipedia.org/wiki/The_Great_Train_...   \n",
       "1          https://en.wikipedia.org/wiki/The_Suburbanite   \n",
       "2      https://en.wikipedia.org/wiki/From_Leadville_t...   \n",
       "3      https://en.wikipedia.org/wiki/How_Brown_Saw_th...   \n",
       "4      https://en.wikipedia.org/wiki/Laughing_Gas_(fi...   \n",
       "...                                                  ...   \n",
       "32125                         http://www.primermovie.com   \n",
       "32126                                                NaN   \n",
       "32127                                                NaN   \n",
       "32128  http://www.hallmarkchannel.com/signedsealeddel...   \n",
       "32129                                                NaN   \n",
       "\n",
       "                                                    Plot  \n",
       "0      The film opens with two bandits breaking into ...  \n",
       "1      The film is about a family who move to the sub...  \n",
       "2      The film features a train traveling through th...  \n",
       "3      Before heading out to a baseball game at a nea...  \n",
       "4      The plot is that of a black woman going to the...  \n",
       "...                                                  ...  \n",
       "32125  Friends/fledgling entrepreneurs invent a devic...  \n",
       "32126  El Mariachi just wants to play his guitar and ...  \n",
       "32127  A newlywed couple's honeymoon is upended by th...  \n",
       "32128  \"Signed, Sealed, Delivered\" introduces a dedic...  \n",
       "32129  Ever since the second grade when he first saw ...  \n",
       "\n",
       "[32130 rows x 8 columns]"
      ]
     },
     "execution_count": 29,
     "metadata": {},
     "output_type": "execute_result"
    }
   ],
   "source": [
    "df"
   ]
  },
  {
   "cell_type": "code",
   "execution_count": 30,
   "id": "0c9c36c5",
   "metadata": {},
   "outputs": [],
   "source": [
    "cutted_df = df.groupby(\"Genre\").head(400).reset_index(drop=True) \n",
    "# обрежем до максимум 400(чуть выше медианы) фильмов в жанре, чтобы не было слишком явного дисбаланса при обучении"
   ]
  },
  {
   "cell_type": "code",
   "execution_count": 31,
   "id": "e0e11be9",
   "metadata": {},
   "outputs": [
    {
     "data": {
      "text/plain": [
       "western            400\n",
       "comedy             400\n",
       "science fiction    400\n",
       "musical            400\n",
       "thriller           400\n",
       "war                400\n",
       "animation          400\n",
       "romance            400\n",
       "crime              400\n",
       "horror             400\n",
       "adventure          400\n",
       "drama              400\n",
       "action             400\n",
       "fantasy            382\n",
       "mystery            358\n",
       "noir               350\n",
       "family             320\n",
       "documentary        174\n",
       "biography          144\n",
       "suspense           104\n",
       "Name: Genre, dtype: int64"
      ]
     },
     "execution_count": 31,
     "metadata": {},
     "output_type": "execute_result"
    }
   ],
   "source": [
    "cutted_df.Genre.value_counts()"
   ]
  },
  {
   "cell_type": "code",
   "execution_count": 32,
   "id": "3154a3d4",
   "metadata": {},
   "outputs": [],
   "source": [
    "label_encoder = LabelEncoder()\n",
    "cutted_df[\"genre_encoded\"] = label_encoder.fit_transform(cutted_df[\"Genre\"].tolist())"
   ]
  },
  {
   "cell_type": "code",
   "execution_count": 33,
   "id": "e1ffe127",
   "metadata": {},
   "outputs": [
    {
     "data": {
      "text/html": [
       "<div>\n",
       "<style scoped>\n",
       "    .dataframe tbody tr th:only-of-type {\n",
       "        vertical-align: middle;\n",
       "    }\n",
       "\n",
       "    .dataframe tbody tr th {\n",
       "        vertical-align: top;\n",
       "    }\n",
       "\n",
       "    .dataframe thead th {\n",
       "        text-align: right;\n",
       "    }\n",
       "</style>\n",
       "<table border=\"1\" class=\"dataframe\">\n",
       "  <thead>\n",
       "    <tr style=\"text-align: right;\">\n",
       "      <th></th>\n",
       "      <th>Plot</th>\n",
       "      <th>Genre</th>\n",
       "      <th>genre_encoded</th>\n",
       "    </tr>\n",
       "  </thead>\n",
       "  <tbody>\n",
       "    <tr>\n",
       "      <th>0</th>\n",
       "      <td>The film opens with two bandits breaking into ...</td>\n",
       "      <td>western</td>\n",
       "      <td>19</td>\n",
       "    </tr>\n",
       "    <tr>\n",
       "      <th>1</th>\n",
       "      <td>The film is about a family who move to the sub...</td>\n",
       "      <td>comedy</td>\n",
       "      <td>4</td>\n",
       "    </tr>\n",
       "    <tr>\n",
       "      <th>2</th>\n",
       "      <td>The film features a train traveling through th...</td>\n",
       "      <td>action</td>\n",
       "      <td>0</td>\n",
       "    </tr>\n",
       "    <tr>\n",
       "      <th>3</th>\n",
       "      <td>Before heading out to a baseball game at a nea...</td>\n",
       "      <td>comedy</td>\n",
       "      <td>4</td>\n",
       "    </tr>\n",
       "    <tr>\n",
       "      <th>4</th>\n",
       "      <td>The plot is that of a black woman going to the...</td>\n",
       "      <td>comedy</td>\n",
       "      <td>4</td>\n",
       "    </tr>\n",
       "    <tr>\n",
       "      <th>...</th>\n",
       "      <td>...</td>\n",
       "      <td>...</td>\n",
       "      <td>...</td>\n",
       "    </tr>\n",
       "    <tr>\n",
       "      <th>7027</th>\n",
       "      <td>An associative collection of visual impression...</td>\n",
       "      <td>documentary</td>\n",
       "      <td>6</td>\n",
       "    </tr>\n",
       "    <tr>\n",
       "      <th>7028</th>\n",
       "      <td>The Cyclone, The Freakshow, The Mermaid Parade...</td>\n",
       "      <td>documentary</td>\n",
       "      <td>6</td>\n",
       "    </tr>\n",
       "    <tr>\n",
       "      <th>7029</th>\n",
       "      <td>Twenty years ago, seven superstar artists left...</td>\n",
       "      <td>documentary</td>\n",
       "      <td>6</td>\n",
       "    </tr>\n",
       "    <tr>\n",
       "      <th>7030</th>\n",
       "      <td>Martin Scorsese's rockumentary intertwines foo...</td>\n",
       "      <td>documentary</td>\n",
       "      <td>6</td>\n",
       "    </tr>\n",
       "    <tr>\n",
       "      <th>7031</th>\n",
       "      <td>Ever since the second grade when he first saw ...</td>\n",
       "      <td>documentary</td>\n",
       "      <td>6</td>\n",
       "    </tr>\n",
       "  </tbody>\n",
       "</table>\n",
       "<p>7032 rows × 3 columns</p>\n",
       "</div>"
      ],
      "text/plain": [
       "                                                   Plot        Genre  \\\n",
       "0     The film opens with two bandits breaking into ...      western   \n",
       "1     The film is about a family who move to the sub...       comedy   \n",
       "2     The film features a train traveling through th...       action   \n",
       "3     Before heading out to a baseball game at a nea...       comedy   \n",
       "4     The plot is that of a black woman going to the...       comedy   \n",
       "...                                                 ...          ...   \n",
       "7027  An associative collection of visual impression...  documentary   \n",
       "7028  The Cyclone, The Freakshow, The Mermaid Parade...  documentary   \n",
       "7029  Twenty years ago, seven superstar artists left...  documentary   \n",
       "7030  Martin Scorsese's rockumentary intertwines foo...  documentary   \n",
       "7031  Ever since the second grade when he first saw ...  documentary   \n",
       "\n",
       "      genre_encoded  \n",
       "0                19  \n",
       "1                 4  \n",
       "2                 0  \n",
       "3                 4  \n",
       "4                 4  \n",
       "...             ...  \n",
       "7027              6  \n",
       "7028              6  \n",
       "7029              6  \n",
       "7030              6  \n",
       "7031              6  \n",
       "\n",
       "[7032 rows x 3 columns]"
      ]
     },
     "execution_count": 33,
     "metadata": {},
     "output_type": "execute_result"
    }
   ],
   "source": [
    "df_to_model = cutted_df[[\"Plot\", \"Genre\", \"genre_encoded\"]]\n",
    "df_to_model"
   ]
  },
  {
   "cell_type": "code",
   "execution_count": 34,
   "id": "d44319c7",
   "metadata": {},
   "outputs": [],
   "source": [
    "df_to_model.to_csv('for_genre_prediction.csv')"
   ]
  },
  {
   "cell_type": "code",
   "execution_count": null,
   "id": "004bf2c2",
   "metadata": {},
   "outputs": [],
   "source": [
    "Далее уже работа с колабом"
   ]
  },
  {
   "cell_type": "code",
   "execution_count": null,
   "id": "2619efc6",
   "metadata": {},
   "outputs": [],
   "source": [
    "data = pd.read_csv('/content/drive/MyDrive/Colab/for_genre_prediction.csv')\n",
    "num_labels = len(set(data.genre_encoded))\n",
    "model_args = {\n",
    "    \"reprocess_input_data\": True,\n",
    "    \"overwrite_output_dir\": True,\n",
    "    \"save_model_every_epoch\": False,\n",
    "    \"save_eval_checkpoints\": False,\n",
    "    \"max_seq_length\": 512,\n",
    "    \"train_batch_size\": 16,\n",
    "    \"num_train_epochs\": 4,\n",
    "}\n",
    "\n",
    "# Create a ClassificationModel\n",
    "model = ClassificationModel('bert', 'bert-base-cased', num_labels=num_labels, args=model_args,\n",
    "                            use_cuda=True)"
   ]
  },
  {
   "cell_type": "code",
   "execution_count": null,
   "id": "35d56fd6",
   "metadata": {},
   "outputs": [],
   "source": [
    "train_df, eval_df = train_test_split(data, test_size=0.2, stratify= data[\"Genre\"], random_state=42)"
   ]
  },
  {
   "cell_type": "code",
   "execution_count": null,
   "id": "3f1017da",
   "metadata": {},
   "outputs": [],
   "source": [
    "model.train_model(train_df[[\"Plot\", \"genre_encoded\"]])"
   ]
  },
  {
   "cell_type": "code",
   "execution_count": null,
   "id": "fe7288b8",
   "metadata": {},
   "outputs": [],
   "source": [
    "result, model_outputs, wrong_predictions = model.eval_model(eval_df[[\"Plot\", \"genre_encoded\"]])\n",
    "print(result)"
   ]
  },
  {
   "cell_type": "code",
   "execution_count": 44,
   "id": "6dc86666",
   "metadata": {},
   "outputs": [
    {
     "data": {
      "text/plain": [
       "{'mcc': 0.5817846652188374, 'eval_loss': 1.3338974741372196}"
      ]
     },
     "execution_count": 44,
     "metadata": {},
     "output_type": "execute_result"
    }
   ],
   "source": [
    "{'mcc': 0.5817846652188374, 'eval_loss': 1.3338974741372196}\n",
    "# {'mcc': 0.49048115546234367, 'eval_loss': 1.636696330566502}  # обучена до очистки данных. и до сокращения кол-ва жанров\n",
    "# {'mcc': 0.46240450620118595, 'eval_loss': 1.7098242934025711} обучена после применения clear_data on plot"
   ]
  },
  {
   "cell_type": "code",
   "execution_count": 49,
   "id": "5e23880a",
   "metadata": {},
   "outputs": [],
   "source": [
    "first_genre_encoded = list(map(lambda x: np.argmax(x), model_outputs))\n",
    "eval_df['first_genre_predicted'] = first_genre_encoded\n",
    "\n",
    "sec_genre = model_outputs.copy()\n",
    "for i, pred in enumerate(first_genre_encoded):\n",
    "      sec_genre[i][pred] = 0\n",
    "\n",
    "second_genre_encoded = list(map(lambda x: np.argmax(x), sec_genre))\n",
    "eval_df['second_genre_encoded'] = second_genre_encoded\n"
   ]
  },
  {
   "cell_type": "code",
   "execution_count": null,
   "id": "4a584266",
   "metadata": {},
   "outputs": [],
   "source": [
    "# На всякий случай, загрузим модель, которую обучили."
   ]
  },
  {
   "cell_type": "code",
   "execution_count": 50,
   "id": "e7a7fa95",
   "metadata": {},
   "outputs": [],
   "source": [
    "model = ClassificationModel('bert', './genre_classif_model/outputs/', use_cuda = False)"
   ]
  },
  {
   "cell_type": "code",
   "execution_count": 216,
   "id": "58949a35",
   "metadata": {},
   "outputs": [],
   "source": [
    "# eval_df.Plot[0:2].to_list()"
   ]
  },
  {
   "cell_type": "code",
   "execution_count": 66,
   "id": "62c49e70",
   "metadata": {},
   "outputs": [
    {
     "data": {
      "application/vnd.jupyter.widget-view+json": {
       "model_id": "93846e89f1f04677b3baa948e97e4691",
       "version_major": 2,
       "version_minor": 0
      },
      "text/plain": [
       "  0%|          | 0/2 [00:00<?, ?it/s]"
      ]
     },
     "metadata": {},
     "output_type": "display_data"
    },
    {
     "name": "stdout",
     "output_type": "stream",
     "text": [
      "huggingface/tokenizers: The current process just got forked, after parallelism has already been used. Disabling parallelism to avoid deadlocks...\n",
      "To disable this warning, you can either:\n",
      "\t- Avoid using `tokenizers` before the fork if possible\n",
      "\t- Explicitly set the environment variable TOKENIZERS_PARALLELISM=(true | false)\n"
     ]
    },
    {
     "data": {
      "application/vnd.jupyter.widget-view+json": {
       "model_id": "206a7c8f15f94d79a46205be399cb0c0",
       "version_major": 2,
       "version_minor": 0
      },
      "text/plain": [
       "  0%|          | 0/1 [00:00<?, ?it/s]"
      ]
     },
     "metadata": {},
     "output_type": "display_data"
    }
   ],
   "source": [
    "predictions, raw_outputs = model.predict(eval_df.Plot[0:2].to_list())"
   ]
  },
  {
   "cell_type": "code",
   "execution_count": 68,
   "id": "aafd9d22",
   "metadata": {},
   "outputs": [
    {
     "data": {
      "text/plain": [
       "[19, 11]"
      ]
     },
     "execution_count": 68,
     "metadata": {},
     "output_type": "execute_result"
    }
   ],
   "source": [
    "predictions"
   ]
  },
  {
   "cell_type": "code",
   "execution_count": 53,
   "id": "3bcb146b",
   "metadata": {},
   "outputs": [],
   "source": [
    "eval_df = pd.read_csv('eval_df_genres.csv')"
   ]
  },
  {
   "cell_type": "code",
   "execution_count": 70,
   "id": "c3774f99",
   "metadata": {},
   "outputs": [],
   "source": [
    "eval_df.drop(['Unnamed: 0.1', 'Unnamed: 0'], axis=1, inplace=True)"
   ]
  },
  {
   "cell_type": "code",
   "execution_count": 71,
   "id": "7e44b0e1",
   "metadata": {},
   "outputs": [
    {
     "data": {
      "text/html": [
       "<div>\n",
       "<style scoped>\n",
       "    .dataframe tbody tr th:only-of-type {\n",
       "        vertical-align: middle;\n",
       "    }\n",
       "\n",
       "    .dataframe tbody tr th {\n",
       "        vertical-align: top;\n",
       "    }\n",
       "\n",
       "    .dataframe thead th {\n",
       "        text-align: right;\n",
       "    }\n",
       "</style>\n",
       "<table border=\"1\" class=\"dataframe\">\n",
       "  <thead>\n",
       "    <tr style=\"text-align: right;\">\n",
       "      <th></th>\n",
       "      <th>Plot</th>\n",
       "      <th>Genre</th>\n",
       "      <th>genre_encoded</th>\n",
       "      <th>first_genre_predicted</th>\n",
       "      <th>second_genre_encoded</th>\n",
       "    </tr>\n",
       "  </thead>\n",
       "  <tbody>\n",
       "    <tr>\n",
       "      <th>0</th>\n",
       "      <td>After her Chicago gambling hall burns down in ...</td>\n",
       "      <td>western</td>\n",
       "      <td>19</td>\n",
       "      <td>19</td>\n",
       "      <td>1</td>\n",
       "    </tr>\n",
       "    <tr>\n",
       "      <th>1</th>\n",
       "      <td>Mary McGuire (Mae Murray) is a working-class y...</td>\n",
       "      <td>comedy</td>\n",
       "      <td>4</td>\n",
       "      <td>11</td>\n",
       "      <td>4</td>\n",
       "    </tr>\n",
       "    <tr>\n",
       "      <th>2</th>\n",
       "      <td>When Sophie, a shy young woman, is cursed with...</td>\n",
       "      <td>fantasy</td>\n",
       "      <td>9</td>\n",
       "      <td>9</td>\n",
       "      <td>10</td>\n",
       "    </tr>\n",
       "    <tr>\n",
       "      <th>3</th>\n",
       "      <td>In the seven-and-a-half-minute pre-credits seq...</td>\n",
       "      <td>horror</td>\n",
       "      <td>10</td>\n",
       "      <td>10</td>\n",
       "      <td>9</td>\n",
       "    </tr>\n",
       "    <tr>\n",
       "      <th>4</th>\n",
       "      <td>Woodrow \"Woody\" Wilkins is an imaginative, yet...</td>\n",
       "      <td>adventure</td>\n",
       "      <td>1</td>\n",
       "      <td>0</td>\n",
       "      <td>9</td>\n",
       "    </tr>\n",
       "    <tr>\n",
       "      <th>...</th>\n",
       "      <td>...</td>\n",
       "      <td>...</td>\n",
       "      <td>...</td>\n",
       "      <td>...</td>\n",
       "      <td>...</td>\n",
       "    </tr>\n",
       "    <tr>\n",
       "      <th>1402</th>\n",
       "      <td>Returning to New York City from Europe, Boston...</td>\n",
       "      <td>mystery</td>\n",
       "      <td>12</td>\n",
       "      <td>12</td>\n",
       "      <td>5</td>\n",
       "    </tr>\n",
       "    <tr>\n",
       "      <th>1403</th>\n",
       "      <td>In the 1840s, Captain Michael Fury (Brian Aher...</td>\n",
       "      <td>action</td>\n",
       "      <td>0</td>\n",
       "      <td>19</td>\n",
       "      <td>1</td>\n",
       "    </tr>\n",
       "    <tr>\n",
       "      <th>1404</th>\n",
       "      <td>Khaled falls in love with his friend Suhair. H...</td>\n",
       "      <td>romance</td>\n",
       "      <td>14</td>\n",
       "      <td>14</td>\n",
       "      <td>8</td>\n",
       "    </tr>\n",
       "    <tr>\n",
       "      <th>1405</th>\n",
       "      <td>While the Genie and the people of Agrabah prep...</td>\n",
       "      <td>animation</td>\n",
       "      <td>2</td>\n",
       "      <td>2</td>\n",
       "      <td>8</td>\n",
       "    </tr>\n",
       "    <tr>\n",
       "      <th>1406</th>\n",
       "      <td>In 1835, Jim Bowie realizes that there were un...</td>\n",
       "      <td>war</td>\n",
       "      <td>18</td>\n",
       "      <td>19</td>\n",
       "      <td>0</td>\n",
       "    </tr>\n",
       "  </tbody>\n",
       "</table>\n",
       "<p>1407 rows × 5 columns</p>\n",
       "</div>"
      ],
      "text/plain": [
       "                                                   Plot      Genre  \\\n",
       "0     After her Chicago gambling hall burns down in ...    western   \n",
       "1     Mary McGuire (Mae Murray) is a working-class y...     comedy   \n",
       "2     When Sophie, a shy young woman, is cursed with...    fantasy   \n",
       "3     In the seven-and-a-half-minute pre-credits seq...     horror   \n",
       "4     Woodrow \"Woody\" Wilkins is an imaginative, yet...  adventure   \n",
       "...                                                 ...        ...   \n",
       "1402  Returning to New York City from Europe, Boston...    mystery   \n",
       "1403  In the 1840s, Captain Michael Fury (Brian Aher...     action   \n",
       "1404  Khaled falls in love with his friend Suhair. H...    romance   \n",
       "1405  While the Genie and the people of Agrabah prep...  animation   \n",
       "1406  In 1835, Jim Bowie realizes that there were un...        war   \n",
       "\n",
       "      genre_encoded  first_genre_predicted  second_genre_encoded  \n",
       "0                19                     19                     1  \n",
       "1                 4                     11                     4  \n",
       "2                 9                      9                    10  \n",
       "3                10                     10                     9  \n",
       "4                 1                      0                     9  \n",
       "...             ...                    ...                   ...  \n",
       "1402             12                     12                     5  \n",
       "1403              0                     19                     1  \n",
       "1404             14                     14                     8  \n",
       "1405              2                      2                     8  \n",
       "1406             18                     19                     0  \n",
       "\n",
       "[1407 rows x 5 columns]"
      ]
     },
     "execution_count": 71,
     "metadata": {},
     "output_type": "execute_result"
    }
   ],
   "source": [
    "eval_df"
   ]
  },
  {
   "cell_type": "code",
   "execution_count": 72,
   "id": "c7910f9a",
   "metadata": {},
   "outputs": [],
   "source": [
    "predicted_genres = list(label_encoder.inverse_transform(eval_df['first_genre_predicted']))\n"
   ]
  },
  {
   "cell_type": "markdown",
   "id": "5df42ecd",
   "metadata": {},
   "source": [
    "### Раскодируем обратно жанры"
   ]
  },
  {
   "cell_type": "code",
   "execution_count": 74,
   "id": "a04465b3",
   "metadata": {},
   "outputs": [],
   "source": [
    "eval_df['first_genre_predicted_decoded'] = list(label_encoder.inverse_transform(eval_df['first_genre_predicted']))"
   ]
  },
  {
   "cell_type": "code",
   "execution_count": 75,
   "id": "164fd38c",
   "metadata": {},
   "outputs": [],
   "source": [
    "eval_df['second_genre_decoded'] = list(label_encoder.inverse_transform(eval_df['second_genre_encoded']))"
   ]
  },
  {
   "cell_type": "code",
   "execution_count": null,
   "id": "17dc7d2b",
   "metadata": {},
   "outputs": [],
   "source": []
  },
  {
   "cell_type": "code",
   "execution_count": 80,
   "id": "a896b2a7",
   "metadata": {},
   "outputs": [
    {
     "data": {
      "text/plain": [
       "557"
      ]
     },
     "execution_count": 80,
     "metadata": {},
     "output_type": "execute_result"
    }
   ],
   "source": [
    "(eval_df['genre_encoded'] != eval_df.first_genre_predicted).sum()\n",
    "# Итого 557 жанров, которые мы предсказали неверно."
   ]
  },
  {
   "cell_type": "markdown",
   "id": "bab19be0",
   "metadata": {},
   "source": [
    "### Построим confusion_matrix"
   ]
  },
  {
   "cell_type": "code",
   "execution_count": 214,
   "id": "994492cb",
   "metadata": {},
   "outputs": [],
   "source": [
    "# label_encoder.classes_"
   ]
  },
  {
   "cell_type": "code",
   "execution_count": 118,
   "id": "550b718d",
   "metadata": {},
   "outputs": [
    {
     "data": {
      "image/png": "[encoded data removed]",
      "text/plain": [
       "<Figure size 1800x1800 with 2 Axes>"
      ]
     },
     "metadata": {},
     "output_type": "display_data"
    }
   ],
   "source": [
    "eval_gt_labels = eval_df[\"Genre\"].tolist()\n",
    "class_labels = list(label_encoder.classes_)\n",
    "\n",
    "plt.figure(figsize=(18,18))\n",
    "cf_matrix = confusion_matrix(eval_gt_labels, predicted_genres, labels=class_labels)\n",
    "ax = sns.heatmap(cf_matrix**0.7, annot=True, cmap=\"YlGnBu\") #YlGnBu Добавил нелинейности, чтобы немного сгладить пики.\n",
    "ax.set_xlabel('Predicted Genres', fontsize=20)\n",
    "ax.set_ylabel('True Genres', fontsize=20)\n",
    "ax.set_title('Confusion Matrix', fontsize=20)\n",
    "ax.set_xticklabels(class_labels, rotation=90, fontsize=18)\n",
    "ax.set_yticklabels(class_labels, rotation=0, fontsize=18)\n",
    "\n",
    "plt.show()"
   ]
  },
  {
   "cell_type": "markdown",
   "id": "71b5b7a7",
   "metadata": {},
   "source": [
    "##### Из выводов можно сказать, что в целом предсказывает правильно, есть явные пересечения по жанрам. \n",
    "##### Посмотрим по тем жанрам, где было предсказано неправильно, какие еще жанры предлагались."
   ]
  },
  {
   "cell_type": "code",
   "execution_count": 122,
   "id": "8d7db2ff",
   "metadata": {},
   "outputs": [],
   "source": [
    "genre_mapping = eval_df[eval_df['genre_encoded'] != eval_df.first_genre_predicted][['Genre', 'first_genre_predicted_decoded', 'second_genre_decoded']]"
   ]
  },
  {
   "cell_type": "code",
   "execution_count": 167,
   "id": "6af7a438",
   "metadata": {},
   "outputs": [],
   "source": [
    "genre_mapping.reset_index(drop=True, inplace=True)"
   ]
  },
  {
   "cell_type": "code",
   "execution_count": 168,
   "id": "a35cb64d",
   "metadata": {},
   "outputs": [
    {
     "data": {
      "text/html": [
       "<div>\n",
       "<style scoped>\n",
       "    .dataframe tbody tr th:only-of-type {\n",
       "        vertical-align: middle;\n",
       "    }\n",
       "\n",
       "    .dataframe tbody tr th {\n",
       "        vertical-align: top;\n",
       "    }\n",
       "\n",
       "    .dataframe thead th {\n",
       "        text-align: right;\n",
       "    }\n",
       "</style>\n",
       "<table border=\"1\" class=\"dataframe\">\n",
       "  <thead>\n",
       "    <tr style=\"text-align: right;\">\n",
       "      <th></th>\n",
       "      <th>Genre</th>\n",
       "      <th>first_genre_predicted_decoded</th>\n",
       "      <th>second_genre_decoded</th>\n",
       "    </tr>\n",
       "  </thead>\n",
       "  <tbody>\n",
       "    <tr>\n",
       "      <th>0</th>\n",
       "      <td>comedy</td>\n",
       "      <td>musical</td>\n",
       "      <td>comedy</td>\n",
       "    </tr>\n",
       "    <tr>\n",
       "      <th>1</th>\n",
       "      <td>adventure</td>\n",
       "      <td>action</td>\n",
       "      <td>fantasy</td>\n",
       "    </tr>\n",
       "    <tr>\n",
       "      <th>2</th>\n",
       "      <td>science fiction</td>\n",
       "      <td>horror</td>\n",
       "      <td>science fiction</td>\n",
       "    </tr>\n",
       "    <tr>\n",
       "      <th>3</th>\n",
       "      <td>thriller</td>\n",
       "      <td>horror</td>\n",
       "      <td>thriller</td>\n",
       "    </tr>\n",
       "    <tr>\n",
       "      <th>4</th>\n",
       "      <td>action</td>\n",
       "      <td>war</td>\n",
       "      <td>action</td>\n",
       "    </tr>\n",
       "    <tr>\n",
       "      <th>...</th>\n",
       "      <td>...</td>\n",
       "      <td>...</td>\n",
       "      <td>...</td>\n",
       "    </tr>\n",
       "    <tr>\n",
       "      <th>552</th>\n",
       "      <td>romance</td>\n",
       "      <td>comedy</td>\n",
       "      <td>drama</td>\n",
       "    </tr>\n",
       "    <tr>\n",
       "      <th>553</th>\n",
       "      <td>mystery</td>\n",
       "      <td>horror</td>\n",
       "      <td>mystery</td>\n",
       "    </tr>\n",
       "    <tr>\n",
       "      <th>554</th>\n",
       "      <td>documentary</td>\n",
       "      <td>war</td>\n",
       "      <td>biography</td>\n",
       "    </tr>\n",
       "    <tr>\n",
       "      <th>555</th>\n",
       "      <td>action</td>\n",
       "      <td>western</td>\n",
       "      <td>adventure</td>\n",
       "    </tr>\n",
       "    <tr>\n",
       "      <th>556</th>\n",
       "      <td>war</td>\n",
       "      <td>western</td>\n",
       "      <td>action</td>\n",
       "    </tr>\n",
       "  </tbody>\n",
       "</table>\n",
       "<p>557 rows × 3 columns</p>\n",
       "</div>"
      ],
      "text/plain": [
       "               Genre first_genre_predicted_decoded second_genre_decoded\n",
       "0             comedy                       musical               comedy\n",
       "1          adventure                        action              fantasy\n",
       "2    science fiction                        horror      science fiction\n",
       "3           thriller                        horror             thriller\n",
       "4             action                           war               action\n",
       "..               ...                           ...                  ...\n",
       "552          romance                        comedy                drama\n",
       "553          mystery                        horror              mystery\n",
       "554      documentary                           war            biography\n",
       "555           action                       western            adventure\n",
       "556              war                       western               action\n",
       "\n",
       "[557 rows x 3 columns]"
      ]
     },
     "execution_count": 168,
     "metadata": {},
     "output_type": "execute_result"
    }
   ],
   "source": [
    "genre_mapping #Получили датафрейм с ошибками"
   ]
  },
  {
   "cell_type": "code",
   "execution_count": 207,
   "id": "5148f9f3",
   "metadata": {},
   "outputs": [],
   "source": [
    "genre_list = list(genre_mapping.Genre.unique())\n",
    "for genre in genre_list:\n",
    "    g_map[genre] = list()"
   ]
  },
  {
   "cell_type": "code",
   "execution_count": 208,
   "id": "cbc30cdb",
   "metadata": {},
   "outputs": [],
   "source": [
    "# g_map"
   ]
  },
  {
   "cell_type": "code",
   "execution_count": 209,
   "id": "ba91f63e",
   "metadata": {},
   "outputs": [],
   "source": [
    "for i, genre in enumerate(genre_mapping['Genre']):\n",
    "#     print(genre)\n",
    "    g_map[genre].append(genre_mapping.first_genre_predicted_decoded[i])\n",
    "    g_map[genre].append(genre_mapping.second_genre_decoded[i])"
   ]
  },
  {
   "cell_type": "code",
   "execution_count": 188,
   "id": "588174df",
   "metadata": {},
   "outputs": [],
   "source": [
    "# genre_mapping.first_genre_predicted_decoded[1]"
   ]
  },
  {
   "cell_type": "code",
   "execution_count": 210,
   "id": "aacd6a92",
   "metadata": {},
   "outputs": [],
   "source": [
    "# genre_list = list(genre_mapping.Genre.unique())\n",
    "for genre in genre_list:\n",
    "    g_map[genre] = Counter(g_map[genre]).most_common()[:3]"
   ]
  },
  {
   "cell_type": "code",
   "execution_count": 213,
   "id": "f72f163b",
   "metadata": {},
   "outputs": [
    {
     "data": {
      "text/html": [
       "<div>\n",
       "<style scoped>\n",
       "    .dataframe tbody tr th:only-of-type {\n",
       "        vertical-align: middle;\n",
       "    }\n",
       "\n",
       "    .dataframe tbody tr th {\n",
       "        vertical-align: top;\n",
       "    }\n",
       "\n",
       "    .dataframe thead th {\n",
       "        text-align: right;\n",
       "    }\n",
       "</style>\n",
       "<table border=\"1\" class=\"dataframe\">\n",
       "  <thead>\n",
       "    <tr style=\"text-align: right;\">\n",
       "      <th></th>\n",
       "      <th>0</th>\n",
       "      <th>1</th>\n",
       "      <th>2</th>\n",
       "    </tr>\n",
       "  </thead>\n",
       "  <tbody>\n",
       "    <tr>\n",
       "      <th>comedy</th>\n",
       "      <td>(drama, 23)</td>\n",
       "      <td>(comedy, 20)</td>\n",
       "      <td>(musical, 6)</td>\n",
       "    </tr>\n",
       "    <tr>\n",
       "      <th>adventure</th>\n",
       "      <td>(adventure, 11)</td>\n",
       "      <td>(drama, 8)</td>\n",
       "      <td>(action, 6)</td>\n",
       "    </tr>\n",
       "    <tr>\n",
       "      <th>science fiction</th>\n",
       "      <td>(horror, 8)</td>\n",
       "      <td>(science fiction, 8)</td>\n",
       "      <td>(animation, 5)</td>\n",
       "    </tr>\n",
       "    <tr>\n",
       "      <th>thriller</th>\n",
       "      <td>(thriller, 20)</td>\n",
       "      <td>(action, 20)</td>\n",
       "      <td>(horror, 11)</td>\n",
       "    </tr>\n",
       "    <tr>\n",
       "      <th>action</th>\n",
       "      <td>(action, 13)</td>\n",
       "      <td>(thriller, 9)</td>\n",
       "      <td>(noir, 8)</td>\n",
       "    </tr>\n",
       "    <tr>\n",
       "      <th>war</th>\n",
       "      <td>(war, 5)</td>\n",
       "      <td>(action, 5)</td>\n",
       "      <td>(western, 4)</td>\n",
       "    </tr>\n",
       "    <tr>\n",
       "      <th>fantasy</th>\n",
       "      <td>(family, 12)</td>\n",
       "      <td>(fantasy, 12)</td>\n",
       "      <td>(animation, 8)</td>\n",
       "    </tr>\n",
       "    <tr>\n",
       "      <th>animation</th>\n",
       "      <td>(fantasy, 8)</td>\n",
       "      <td>(family, 7)</td>\n",
       "      <td>(adventure, 5)</td>\n",
       "    </tr>\n",
       "    <tr>\n",
       "      <th>musical</th>\n",
       "      <td>(comedy, 12)</td>\n",
       "      <td>(drama, 11)</td>\n",
       "      <td>(musical, 8)</td>\n",
       "    </tr>\n",
       "    <tr>\n",
       "      <th>romance</th>\n",
       "      <td>(romance, 13)</td>\n",
       "      <td>(drama, 10)</td>\n",
       "      <td>(comedy, 9)</td>\n",
       "    </tr>\n",
       "    <tr>\n",
       "      <th>drama</th>\n",
       "      <td>(drama, 15)</td>\n",
       "      <td>(comedy, 10)</td>\n",
       "      <td>(crime, 5)</td>\n",
       "    </tr>\n",
       "    <tr>\n",
       "      <th>noir</th>\n",
       "      <td>(noir, 23)</td>\n",
       "      <td>(mystery, 13)</td>\n",
       "      <td>(thriller, 10)</td>\n",
       "    </tr>\n",
       "    <tr>\n",
       "      <th>crime</th>\n",
       "      <td>(crime, 22)</td>\n",
       "      <td>(noir, 19)</td>\n",
       "      <td>(thriller, 10)</td>\n",
       "    </tr>\n",
       "    <tr>\n",
       "      <th>horror</th>\n",
       "      <td>(thriller, 8)</td>\n",
       "      <td>(science fiction, 6)</td>\n",
       "      <td>(horror, 5)</td>\n",
       "    </tr>\n",
       "    <tr>\n",
       "      <th>mystery</th>\n",
       "      <td>(crime, 18)</td>\n",
       "      <td>(mystery, 17)</td>\n",
       "      <td>(noir, 15)</td>\n",
       "    </tr>\n",
       "    <tr>\n",
       "      <th>documentary</th>\n",
       "      <td>(biography, 5)</td>\n",
       "      <td>(family, 4)</td>\n",
       "      <td>(adventure, 3)</td>\n",
       "    </tr>\n",
       "    <tr>\n",
       "      <th>suspense</th>\n",
       "      <td>(thriller, 13)</td>\n",
       "      <td>(mystery, 6)</td>\n",
       "      <td>(noir, 4)</td>\n",
       "    </tr>\n",
       "    <tr>\n",
       "      <th>family</th>\n",
       "      <td>(family, 19)</td>\n",
       "      <td>(fantasy, 12)</td>\n",
       "      <td>(romance, 6)</td>\n",
       "    </tr>\n",
       "    <tr>\n",
       "      <th>biography</th>\n",
       "      <td>(biography, 7)</td>\n",
       "      <td>(thriller, 5)</td>\n",
       "      <td>(noir, 4)</td>\n",
       "    </tr>\n",
       "    <tr>\n",
       "      <th>western</th>\n",
       "      <td>(musical, 3)</td>\n",
       "      <td>(western, 3)</td>\n",
       "      <td>(adventure, 3)</td>\n",
       "    </tr>\n",
       "  </tbody>\n",
       "</table>\n",
       "</div>"
      ],
      "text/plain": [
       "                               0                     1               2\n",
       "comedy               (drama, 23)          (comedy, 20)    (musical, 6)\n",
       "adventure        (adventure, 11)            (drama, 8)     (action, 6)\n",
       "science fiction      (horror, 8)  (science fiction, 8)  (animation, 5)\n",
       "thriller          (thriller, 20)          (action, 20)    (horror, 11)\n",
       "action              (action, 13)         (thriller, 9)       (noir, 8)\n",
       "war                     (war, 5)           (action, 5)    (western, 4)\n",
       "fantasy             (family, 12)         (fantasy, 12)  (animation, 8)\n",
       "animation           (fantasy, 8)           (family, 7)  (adventure, 5)\n",
       "musical             (comedy, 12)           (drama, 11)    (musical, 8)\n",
       "romance            (romance, 13)           (drama, 10)     (comedy, 9)\n",
       "drama                (drama, 15)          (comedy, 10)      (crime, 5)\n",
       "noir                  (noir, 23)         (mystery, 13)  (thriller, 10)\n",
       "crime                (crime, 22)            (noir, 19)  (thriller, 10)\n",
       "horror             (thriller, 8)  (science fiction, 6)     (horror, 5)\n",
       "mystery              (crime, 18)         (mystery, 17)      (noir, 15)\n",
       "documentary       (biography, 5)           (family, 4)  (adventure, 3)\n",
       "suspense          (thriller, 13)          (mystery, 6)       (noir, 4)\n",
       "family              (family, 19)         (fantasy, 12)    (romance, 6)\n",
       "biography         (biography, 7)         (thriller, 5)       (noir, 4)\n",
       "western             (musical, 3)          (western, 3)  (adventure, 3)"
      ]
     },
     "execution_count": 213,
     "metadata": {},
     "output_type": "execute_result"
    }
   ],
   "source": [
    "pd.DataFrame(g_map).transpose() # А это уже датафрейм с тем, что предсказала модель в 1-2 жанре по неверным предложениям. \n",
    "# В большинстве случаев на втором жанре был предложен верный класс, из датафрейма ниже это видно."
   ]
  },
  {
   "cell_type": "code",
   "execution_count": null,
   "id": "3f1e25f4",
   "metadata": {},
   "outputs": [],
   "source": []
  },
  {
   "cell_type": "code",
   "execution_count": null,
   "id": "7427c1d1",
   "metadata": {},
   "outputs": [],
   "source": []
  },
  {
   "cell_type": "code",
   "execution_count": null,
   "id": "6a07ad60",
   "metadata": {},
   "outputs": [],
   "source": []
  },
  {
   "cell_type": "markdown",
   "id": "1450abdf",
   "metadata": {},
   "source": [
    "### Теперь соберем модель, которая сможет предсказывать жанр по нашему тексту."
   ]
  },
  {
   "cell_type": "code",
   "execution_count": 247,
   "id": "dd7b4abd",
   "metadata": {},
   "outputs": [],
   "source": [
    "decode_dict = dict(zip(list(range(20)), list(label_encoder.classes_)))\n",
    "decode_dict = {0: 'action',\n",
    " 1: 'adventure',\n",
    " 2: 'animation',\n",
    " 3: 'biography',\n",
    " 4: 'comedy',\n",
    " 5: 'crime',\n",
    " 6: 'documentary',\n",
    " 7: 'drama',\n",
    " 8: 'family',\n",
    " 9: 'fantasy',\n",
    " 10: 'horror',\n",
    " 11: 'musical',\n",
    " 12: 'mystery',\n",
    " 13: 'noir',\n",
    " 14: 'romance',\n",
    " 15: 'science fiction',\n",
    " 16: 'suspense',\n",
    " 17: 'thriller',\n",
    " 18: 'war',\n",
    " 19: 'western'}\n",
    "\n",
    "# повторил хардкодом, чтобы не потерялся"
   ]
  },
  {
   "cell_type": "code",
   "execution_count": 252,
   "id": "9f13d4eb",
   "metadata": {},
   "outputs": [],
   "source": [
    "class genre_predictor:\n",
    "    def __init__(self):\n",
    "        self.model = ClassificationModel('bert', './genre_classif_model/outputs/', use_cuda = False)\n",
    "        self.decode_dict =  {0: 'action',\n",
    "                             1: 'adventure',\n",
    "                             2: 'animation',\n",
    "                             3: 'biography',\n",
    "                             4: 'comedy',\n",
    "                             5: 'crime',\n",
    "                             6: 'documentary',\n",
    "                             7: 'drama',\n",
    "                             8: 'family',\n",
    "                             9: 'fantasy',\n",
    "                             10: 'horror',\n",
    "                             11: 'musical',\n",
    "                             12: 'mystery',\n",
    "                             13: 'noir',\n",
    "                             14: 'romance',\n",
    "                             15: 'science fiction',\n",
    "                             16: 'suspense',\n",
    "                             17: 'thriller',\n",
    "                             18: 'war',\n",
    "                             19: 'western'}\n",
    "        self.first_genre = None\n",
    "        self.second_genre = None\n",
    "        \n",
    "    def predict(self, your_text):\n",
    "        predictions, raw_outputs = self.model.predict([your_text])\n",
    "        self.first_genre = decode_dict[predictions[0]]\n",
    "        \n",
    "        raw_outputs[0][predictions[0]] = 0\n",
    "        self.second_genre = decode_dict[np.argmax(raw_outputs)]\n",
    "        \n",
    "        return self.first_genre, self.second_genre"
   ]
  },
  {
   "cell_type": "code",
   "execution_count": 255,
   "id": "bcc68ca6",
   "metadata": {},
   "outputs": [],
   "source": [
    "predictor = genre_predictor()"
   ]
  },
  {
   "cell_type": "code",
   "execution_count": 256,
   "id": "d17e568b",
   "metadata": {},
   "outputs": [
    {
     "data": {
      "application/vnd.jupyter.widget-view+json": {
       "model_id": "f3524dbdfe3f49b9bccd1721b15fc44e",
       "version_major": 2,
       "version_minor": 0
      },
      "text/plain": [
       "  0%|          | 0/1 [00:00<?, ?it/s]"
      ]
     },
     "metadata": {},
     "output_type": "display_data"
    },
    {
     "name": "stdout",
     "output_type": "stream",
     "text": [
      "huggingface/tokenizers: The current process just got forked, after parallelism has already been used. Disabling parallelism to avoid deadlocks...\n",
      "To disable this warning, you can either:\n",
      "\t- Avoid using `tokenizers` before the fork if possible\n",
      "\t- Explicitly set the environment variable TOKENIZERS_PARALLELISM=(true | false)\n"
     ]
    },
    {
     "data": {
      "application/vnd.jupyter.widget-view+json": {
       "model_id": "3ee844a162c046d186dd30da0a12e46c",
       "version_major": 2,
       "version_minor": 0
      },
      "text/plain": [
       "  0%|          | 0/1 [00:00<?, ?it/s]"
      ]
     },
     "metadata": {},
     "output_type": "display_data"
    },
    {
     "data": {
      "text/plain": [
       "('fantasy', 'comedy')"
      ]
     },
     "execution_count": 256,
     "metadata": {},
     "output_type": "execute_result"
    }
   ],
   "source": [
    "predictor.predict(your_text)"
   ]
  },
  {
   "cell_type": "code",
   "execution_count": null,
   "id": "30ccbe53",
   "metadata": {},
   "outputs": [],
   "source": [
    "model = ClassificationModel('bert', './genre_classif_model/outputs/', use_cuda = False)"
   ]
  },
  {
   "cell_type": "code",
   "execution_count": 217,
   "id": "df79ac40",
   "metadata": {},
   "outputs": [],
   "source": [
    "your_text = 'Once upone a time'"
   ]
  },
  {
   "cell_type": "code",
   "execution_count": 218,
   "id": "1ad7fd8c",
   "metadata": {},
   "outputs": [
    {
     "data": {
      "application/vnd.jupyter.widget-view+json": {
       "model_id": "cbc94228c17949e5b0ed4ed731fb473f",
       "version_major": 2,
       "version_minor": 0
      },
      "text/plain": [
       "  0%|          | 0/1 [00:00<?, ?it/s]"
      ]
     },
     "metadata": {},
     "output_type": "display_data"
    },
    {
     "name": "stdout",
     "output_type": "stream",
     "text": [
      "huggingface/tokenizers: The current process just got forked, after parallelism has already been used. Disabling parallelism to avoid deadlocks...\n",
      "To disable this warning, you can either:\n",
      "\t- Avoid using `tokenizers` before the fork if possible\n",
      "\t- Explicitly set the environment variable TOKENIZERS_PARALLELISM=(true | false)\n"
     ]
    },
    {
     "data": {
      "application/vnd.jupyter.widget-view+json": {
       "model_id": "188942eb6cdb4c9a89e46d5d06bcfe26",
       "version_major": 2,
       "version_minor": 0
      },
      "text/plain": [
       "  0%|          | 0/1 [00:00<?, ?it/s]"
      ]
     },
     "metadata": {},
     "output_type": "display_data"
    }
   ],
   "source": [
    "predictions, raw_outputs = model.predict([your_text])"
   ]
  },
  {
   "cell_type": "code",
   "execution_count": 239,
   "id": "64f36ddb",
   "metadata": {},
   "outputs": [],
   "source": [
    "first_genre = decode_dict[predictions[0]]"
   ]
  },
  {
   "cell_type": "code",
   "execution_count": 240,
   "id": "b5d96097",
   "metadata": {},
   "outputs": [
    {
     "data": {
      "text/plain": [
       "'fantasy'"
      ]
     },
     "execution_count": 240,
     "metadata": {},
     "output_type": "execute_result"
    }
   ],
   "source": [
    "first_genre"
   ]
  },
  {
   "cell_type": "code",
   "execution_count": 249,
   "id": "c1fd0e8b",
   "metadata": {},
   "outputs": [],
   "source": [
    "raw_outputs[0][predictions[0]] = 0\n",
    "second_genre = decode_dict[np.argmax(raw_outputs)]"
   ]
  },
  {
   "cell_type": "code",
   "execution_count": 251,
   "id": "04041903",
   "metadata": {},
   "outputs": [
    {
     "data": {
      "text/plain": [
       "'comedy'"
      ]
     },
     "execution_count": 251,
     "metadata": {},
     "output_type": "execute_result"
    }
   ],
   "source": [
    "second_genre"
   ]
  },
  {
   "cell_type": "code",
   "execution_count": null,
   "id": "a734c70f",
   "metadata": {},
   "outputs": [],
   "source": [
    "label_encoder.inverse_transform(eval_df['second_genre_encoded'])"
   ]
  },
  {
   "cell_type": "code",
   "execution_count": 275,
   "id": "90c844c4",
   "metadata": {},
   "outputs": [
    {
     "name": "stderr",
     "output_type": "stream",
     "text": [
      "2023-01-15 20:52:37.019 INFO    numexpr.utils: NumExpr defaulting to 8 threads.\n"
     ]
    },
    {
     "name": "stdout",
     "output_type": "stream",
     "text": [
      "\n",
      "  You can now view your Streamlit app in your browser.\n",
      "\n",
      "  Local URL: http://localhost:8502\n",
      "  Network URL: http://192.168.1.3:8502\n",
      "\n"
     ]
    },
    {
     "name": "stderr",
     "output_type": "stream",
     "text": [
      "2023-01-15 20:52:45.056 Traceback (most recent call last):\n",
      "  File \"/Users/alex/opt/anaconda3/envs/st/lib/python3.8/site-packages/streamlit/legacy_caching/caching.py\", line 540, in get_or_create_cached_value\n",
      "    return_value = _read_from_cache(\n",
      "  File \"/Users/alex/opt/anaconda3/envs/st/lib/python3.8/site-packages/streamlit/legacy_caching/caching.py\", line 339, in _read_from_cache\n",
      "    raise e\n",
      "  File \"/Users/alex/opt/anaconda3/envs/st/lib/python3.8/site-packages/streamlit/legacy_caching/caching.py\", line 324, in _read_from_cache\n",
      "    return _read_from_mem_cache(\n",
      "  File \"/Users/alex/opt/anaconda3/envs/st/lib/python3.8/site-packages/streamlit/legacy_caching/caching.py\", line 242, in _read_from_mem_cache\n",
      "    raise CacheKeyNotFoundError(\"Key not found in mem cache\")\n",
      "streamlit.legacy_caching.caching.CacheKeyNotFoundError: Key not found in mem cache\n",
      "\n",
      "During handling of the above exception, another exception occurred:\n",
      "\n",
      "Traceback (most recent call last):\n",
      "  File \"/Users/alex/opt/anaconda3/envs/st/lib/python3.8/site-packages/streamlit/script_runner.py\", line 354, in _run_script\n",
      "    exec(code, module.__dict__)\n",
      "  File \"/Users/alex/Documents/Школа_DS_Сбер/Итоговый проект/run_simple_transformers_streamlit_app.py\", line 5, in <module>\n",
      "    streamlit_runner()\n",
      "  File \"/Users/alex/opt/anaconda3/envs/st/lib/python3.8/site-packages/simpletransformers/streamlit/simple_view.py\", line 225, in streamlit_runner\n",
      "    model, model_class = load_model(\n",
      "  File \"/Users/alex/opt/anaconda3/envs/st/lib/python3.8/site-packages/streamlit/legacy_caching/caching.py\", line 574, in wrapped_func\n",
      "    return get_or_create_cached_value()\n",
      "  File \"/Users/alex/opt/anaconda3/envs/st/lib/python3.8/site-packages/streamlit/legacy_caching/caching.py\", line 558, in get_or_create_cached_value\n",
      "    return_value = func(*args, **kwargs)\n",
      "  File \"/Users/alex/opt/anaconda3/envs/st/lib/python3.8/site-packages/simpletransformers/streamlit/simple_view.py\", line 67, in load_model\n",
      "    model = create_model(\n",
      "  File \"/Users/alex/opt/anaconda3/envs/st/lib/python3.8/site-packages/simpletransformers/streamlit/simple_view.py\", line 93, in create_model\n",
      "    return ClassificationModel(\n",
      "  File \"/Users/alex/opt/anaconda3/envs/st/lib/python3.8/site-packages/simpletransformers/classification/classification_model.py\", line 388, in __init__\n",
      "    raise ValueError(\n",
      "ValueError: 'use_cuda' set to True when cuda is unavailable. Make sure CUDA is available or set use_cuda=False.\n",
      "\n",
      "2023-01-15 20:53:15.880 Traceback (most recent call last):\n",
      "  File \"/Users/alex/opt/anaconda3/envs/st/lib/python3.8/site-packages/streamlit/legacy_caching/caching.py\", line 540, in get_or_create_cached_value\n",
      "    return_value = _read_from_cache(\n",
      "  File \"/Users/alex/opt/anaconda3/envs/st/lib/python3.8/site-packages/streamlit/legacy_caching/caching.py\", line 339, in _read_from_cache\n",
      "    raise e\n",
      "  File \"/Users/alex/opt/anaconda3/envs/st/lib/python3.8/site-packages/streamlit/legacy_caching/caching.py\", line 324, in _read_from_cache\n",
      "    return _read_from_mem_cache(\n",
      "  File \"/Users/alex/opt/anaconda3/envs/st/lib/python3.8/site-packages/streamlit/legacy_caching/caching.py\", line 242, in _read_from_mem_cache\n",
      "    raise CacheKeyNotFoundError(\"Key not found in mem cache\")\n",
      "streamlit.legacy_caching.caching.CacheKeyNotFoundError: Key not found in mem cache\n",
      "\n",
      "During handling of the above exception, another exception occurred:\n",
      "\n",
      "Traceback (most recent call last):\n",
      "  File \"/Users/alex/opt/anaconda3/envs/st/lib/python3.8/site-packages/streamlit/script_runner.py\", line 354, in _run_script\n",
      "    exec(code, module.__dict__)\n",
      "  File \"/Users/alex/Documents/Школа_DS_Сбер/Итоговый проект/run_simple_transformers_streamlit_app.py\", line 5, in <module>\n",
      "    streamlit_runner()\n",
      "  File \"/Users/alex/opt/anaconda3/envs/st/lib/python3.8/site-packages/simpletransformers/streamlit/simple_view.py\", line 225, in streamlit_runner\n",
      "    model, model_class = load_model(\n",
      "  File \"/Users/alex/opt/anaconda3/envs/st/lib/python3.8/site-packages/streamlit/legacy_caching/caching.py\", line 574, in wrapped_func\n",
      "    return get_or_create_cached_value()\n",
      "  File \"/Users/alex/opt/anaconda3/envs/st/lib/python3.8/site-packages/streamlit/legacy_caching/caching.py\", line 558, in get_or_create_cached_value\n",
      "    return_value = func(*args, **kwargs)\n",
      "  File \"/Users/alex/opt/anaconda3/envs/st/lib/python3.8/site-packages/simpletransformers/streamlit/simple_view.py\", line 67, in load_model\n",
      "    model = create_model(\n",
      "  File \"/Users/alex/opt/anaconda3/envs/st/lib/python3.8/site-packages/simpletransformers/streamlit/simple_view.py\", line 93, in create_model\n",
      "    return ClassificationModel(\n",
      "  File \"/Users/alex/opt/anaconda3/envs/st/lib/python3.8/site-packages/simpletransformers/classification/classification_model.py\", line 388, in __init__\n",
      "    raise ValueError(\n",
      "ValueError: 'use_cuda' set to True when cuda is unavailable. Make sure CUDA is available or set use_cuda=False.\n",
      "\n",
      "2023-01-15 20:53:25.496 Traceback (most recent call last):\n",
      "  File \"/Users/alex/opt/anaconda3/envs/st/lib/python3.8/site-packages/streamlit/legacy_caching/caching.py\", line 540, in get_or_create_cached_value\n",
      "    return_value = _read_from_cache(\n",
      "  File \"/Users/alex/opt/anaconda3/envs/st/lib/python3.8/site-packages/streamlit/legacy_caching/caching.py\", line 339, in _read_from_cache\n",
      "    raise e\n",
      "  File \"/Users/alex/opt/anaconda3/envs/st/lib/python3.8/site-packages/streamlit/legacy_caching/caching.py\", line 324, in _read_from_cache\n",
      "    return _read_from_mem_cache(\n",
      "  File \"/Users/alex/opt/anaconda3/envs/st/lib/python3.8/site-packages/streamlit/legacy_caching/caching.py\", line 242, in _read_from_mem_cache\n",
      "    raise CacheKeyNotFoundError(\"Key not found in mem cache\")\n",
      "streamlit.legacy_caching.caching.CacheKeyNotFoundError: Key not found in mem cache\n",
      "\n",
      "During handling of the above exception, another exception occurred:\n",
      "\n",
      "Traceback (most recent call last):\n",
      "  File \"/Users/alex/opt/anaconda3/envs/st/lib/python3.8/site-packages/streamlit/script_runner.py\", line 354, in _run_script\n",
      "    exec(code, module.__dict__)\n",
      "  File \"/Users/alex/Documents/Школа_DS_Сбер/Итоговый проект/run_simple_transformers_streamlit_app.py\", line 5, in <module>\n",
      "    streamlit_runner()\n",
      "  File \"/Users/alex/opt/anaconda3/envs/st/lib/python3.8/site-packages/simpletransformers/streamlit/simple_view.py\", line 225, in streamlit_runner\n",
      "    model, model_class = load_model(\n",
      "  File \"/Users/alex/opt/anaconda3/envs/st/lib/python3.8/site-packages/streamlit/legacy_caching/caching.py\", line 574, in wrapped_func\n",
      "    return get_or_create_cached_value()\n",
      "  File \"/Users/alex/opt/anaconda3/envs/st/lib/python3.8/site-packages/streamlit/legacy_caching/caching.py\", line 558, in get_or_create_cached_value\n",
      "    return_value = func(*args, **kwargs)\n",
      "  File \"/Users/alex/opt/anaconda3/envs/st/lib/python3.8/site-packages/simpletransformers/streamlit/simple_view.py\", line 67, in load_model\n",
      "    model = create_model(\n",
      "  File \"/Users/alex/opt/anaconda3/envs/st/lib/python3.8/site-packages/simpletransformers/streamlit/simple_view.py\", line 93, in create_model\n",
      "    return ClassificationModel(\n",
      "  File \"/Users/alex/opt/anaconda3/envs/st/lib/python3.8/site-packages/simpletransformers/classification/classification_model.py\", line 388, in __init__\n",
      "    raise ValueError(\n",
      "ValueError: 'use_cuda' set to True when cuda is unavailable. Make sure CUDA is available or set use_cuda=False.\n",
      "\n",
      "2023-01-15 20:53:55.046 Traceback (most recent call last):\n",
      "  File \"/Users/alex/opt/anaconda3/envs/st/lib/python3.8/site-packages/streamlit/legacy_caching/caching.py\", line 540, in get_or_create_cached_value\n",
      "    return_value = _read_from_cache(\n",
      "  File \"/Users/alex/opt/anaconda3/envs/st/lib/python3.8/site-packages/streamlit/legacy_caching/caching.py\", line 339, in _read_from_cache\n",
      "    raise e\n",
      "  File \"/Users/alex/opt/anaconda3/envs/st/lib/python3.8/site-packages/streamlit/legacy_caching/caching.py\", line 324, in _read_from_cache\n",
      "    return _read_from_mem_cache(\n",
      "  File \"/Users/alex/opt/anaconda3/envs/st/lib/python3.8/site-packages/streamlit/legacy_caching/caching.py\", line 242, in _read_from_mem_cache\n",
      "    raise CacheKeyNotFoundError(\"Key not found in mem cache\")\n",
      "streamlit.legacy_caching.caching.CacheKeyNotFoundError: Key not found in mem cache\n",
      "\n",
      "During handling of the above exception, another exception occurred:\n",
      "\n",
      "Traceback (most recent call last):\n",
      "  File \"/Users/alex/opt/anaconda3/envs/st/lib/python3.8/site-packages/streamlit/script_runner.py\", line 354, in _run_script\n",
      "    exec(code, module.__dict__)\n",
      "  File \"/Users/alex/Documents/Школа_DS_Сбер/Итоговый проект/run_simple_transformers_streamlit_app.py\", line 5, in <module>\n",
      "    streamlit_runner()\n",
      "  File \"/Users/alex/opt/anaconda3/envs/st/lib/python3.8/site-packages/simpletransformers/streamlit/simple_view.py\", line 225, in streamlit_runner\n",
      "    model, model_class = load_model(\n",
      "  File \"/Users/alex/opt/anaconda3/envs/st/lib/python3.8/site-packages/streamlit/legacy_caching/caching.py\", line 574, in wrapped_func\n",
      "    return get_or_create_cached_value()\n",
      "  File \"/Users/alex/opt/anaconda3/envs/st/lib/python3.8/site-packages/streamlit/legacy_caching/caching.py\", line 558, in get_or_create_cached_value\n",
      "    return_value = func(*args, **kwargs)\n",
      "  File \"/Users/alex/opt/anaconda3/envs/st/lib/python3.8/site-packages/simpletransformers/streamlit/simple_view.py\", line 67, in load_model\n",
      "    model = create_model(\n",
      "  File \"/Users/alex/opt/anaconda3/envs/st/lib/python3.8/site-packages/simpletransformers/streamlit/simple_view.py\", line 93, in create_model\n",
      "    return ClassificationModel(\n",
      "  File \"/Users/alex/opt/anaconda3/envs/st/lib/python3.8/site-packages/simpletransformers/classification/classification_model.py\", line 388, in __init__\n",
      "    raise ValueError(\n",
      "ValueError: 'use_cuda' set to True when cuda is unavailable. Make sure CUDA is available or set use_cuda=False.\n",
      "\n"
     ]
    },
    {
     "name": "stderr",
     "output_type": "stream",
     "text": [
      "2023-01-15 20:54:01.919 Traceback (most recent call last):\n",
      "  File \"/Users/alex/opt/anaconda3/envs/st/lib/python3.8/site-packages/streamlit/legacy_caching/caching.py\", line 540, in get_or_create_cached_value\n",
      "    return_value = _read_from_cache(\n",
      "  File \"/Users/alex/opt/anaconda3/envs/st/lib/python3.8/site-packages/streamlit/legacy_caching/caching.py\", line 339, in _read_from_cache\n",
      "    raise e\n",
      "  File \"/Users/alex/opt/anaconda3/envs/st/lib/python3.8/site-packages/streamlit/legacy_caching/caching.py\", line 324, in _read_from_cache\n",
      "    return _read_from_mem_cache(\n",
      "  File \"/Users/alex/opt/anaconda3/envs/st/lib/python3.8/site-packages/streamlit/legacy_caching/caching.py\", line 242, in _read_from_mem_cache\n",
      "    raise CacheKeyNotFoundError(\"Key not found in mem cache\")\n",
      "streamlit.legacy_caching.caching.CacheKeyNotFoundError: Key not found in mem cache\n",
      "\n",
      "During handling of the above exception, another exception occurred:\n",
      "\n",
      "Traceback (most recent call last):\n",
      "  File \"/Users/alex/opt/anaconda3/envs/st/lib/python3.8/site-packages/streamlit/script_runner.py\", line 354, in _run_script\n",
      "    exec(code, module.__dict__)\n",
      "  File \"/Users/alex/Documents/Школа_DS_Сбер/Итоговый проект/run_simple_transformers_streamlit_app.py\", line 5, in <module>\n",
      "    streamlit_runner()\n",
      "  File \"/Users/alex/opt/anaconda3/envs/st/lib/python3.8/site-packages/simpletransformers/streamlit/simple_view.py\", line 225, in streamlit_runner\n",
      "    model, model_class = load_model(\n",
      "  File \"/Users/alex/opt/anaconda3/envs/st/lib/python3.8/site-packages/streamlit/legacy_caching/caching.py\", line 574, in wrapped_func\n",
      "    return get_or_create_cached_value()\n",
      "  File \"/Users/alex/opt/anaconda3/envs/st/lib/python3.8/site-packages/streamlit/legacy_caching/caching.py\", line 558, in get_or_create_cached_value\n",
      "    return_value = func(*args, **kwargs)\n",
      "  File \"/Users/alex/opt/anaconda3/envs/st/lib/python3.8/site-packages/simpletransformers/streamlit/simple_view.py\", line 67, in load_model\n",
      "    model = create_model(\n",
      "  File \"/Users/alex/opt/anaconda3/envs/st/lib/python3.8/site-packages/simpletransformers/streamlit/simple_view.py\", line 93, in create_model\n",
      "    return ClassificationModel(\n",
      "  File \"/Users/alex/opt/anaconda3/envs/st/lib/python3.8/site-packages/simpletransformers/classification/classification_model.py\", line 388, in __init__\n",
      "    raise ValueError(\n",
      "ValueError: 'use_cuda' set to True when cuda is unavailable. Make sure CUDA is available or set use_cuda=False.\n",
      "\n",
      "2023-01-15 20:54:02.933 Traceback (most recent call last):\n",
      "  File \"/Users/alex/opt/anaconda3/envs/st/lib/python3.8/site-packages/streamlit/legacy_caching/caching.py\", line 540, in get_or_create_cached_value\n",
      "    return_value = _read_from_cache(\n",
      "  File \"/Users/alex/opt/anaconda3/envs/st/lib/python3.8/site-packages/streamlit/legacy_caching/caching.py\", line 339, in _read_from_cache\n",
      "    raise e\n",
      "  File \"/Users/alex/opt/anaconda3/envs/st/lib/python3.8/site-packages/streamlit/legacy_caching/caching.py\", line 324, in _read_from_cache\n",
      "    return _read_from_mem_cache(\n",
      "  File \"/Users/alex/opt/anaconda3/envs/st/lib/python3.8/site-packages/streamlit/legacy_caching/caching.py\", line 242, in _read_from_mem_cache\n",
      "    raise CacheKeyNotFoundError(\"Key not found in mem cache\")\n",
      "streamlit.legacy_caching.caching.CacheKeyNotFoundError: Key not found in mem cache\n",
      "\n",
      "During handling of the above exception, another exception occurred:\n",
      "\n",
      "Traceback (most recent call last):\n",
      "  File \"/Users/alex/opt/anaconda3/envs/st/lib/python3.8/site-packages/streamlit/script_runner.py\", line 354, in _run_script\n",
      "    exec(code, module.__dict__)\n",
      "  File \"/Users/alex/Documents/Школа_DS_Сбер/Итоговый проект/run_simple_transformers_streamlit_app.py\", line 5, in <module>\n",
      "    streamlit_runner()\n",
      "  File \"/Users/alex/opt/anaconda3/envs/st/lib/python3.8/site-packages/simpletransformers/streamlit/simple_view.py\", line 225, in streamlit_runner\n",
      "    model, model_class = load_model(\n",
      "  File \"/Users/alex/opt/anaconda3/envs/st/lib/python3.8/site-packages/streamlit/legacy_caching/caching.py\", line 574, in wrapped_func\n",
      "    return get_or_create_cached_value()\n",
      "  File \"/Users/alex/opt/anaconda3/envs/st/lib/python3.8/site-packages/streamlit/legacy_caching/caching.py\", line 558, in get_or_create_cached_value\n",
      "    return_value = func(*args, **kwargs)\n",
      "  File \"/Users/alex/opt/anaconda3/envs/st/lib/python3.8/site-packages/simpletransformers/streamlit/simple_view.py\", line 67, in load_model\n",
      "    model = create_model(\n",
      "  File \"/Users/alex/opt/anaconda3/envs/st/lib/python3.8/site-packages/simpletransformers/streamlit/simple_view.py\", line 93, in create_model\n",
      "    return ClassificationModel(\n",
      "  File \"/Users/alex/opt/anaconda3/envs/st/lib/python3.8/site-packages/simpletransformers/classification/classification_model.py\", line 388, in __init__\n",
      "    raise ValueError(\n",
      "ValueError: 'use_cuda' set to True when cuda is unavailable. Make sure CUDA is available or set use_cuda=False.\n",
      "\n",
      "2023-01-15 20:54:05.320 Traceback (most recent call last):\n",
      "  File \"/Users/alex/opt/anaconda3/envs/st/lib/python3.8/site-packages/streamlit/legacy_caching/caching.py\", line 540, in get_or_create_cached_value\n",
      "    return_value = _read_from_cache(\n",
      "  File \"/Users/alex/opt/anaconda3/envs/st/lib/python3.8/site-packages/streamlit/legacy_caching/caching.py\", line 339, in _read_from_cache\n",
      "    raise e\n",
      "  File \"/Users/alex/opt/anaconda3/envs/st/lib/python3.8/site-packages/streamlit/legacy_caching/caching.py\", line 324, in _read_from_cache\n",
      "    return _read_from_mem_cache(\n",
      "  File \"/Users/alex/opt/anaconda3/envs/st/lib/python3.8/site-packages/streamlit/legacy_caching/caching.py\", line 242, in _read_from_mem_cache\n",
      "    raise CacheKeyNotFoundError(\"Key not found in mem cache\")\n",
      "streamlit.legacy_caching.caching.CacheKeyNotFoundError: Key not found in mem cache\n",
      "\n",
      "During handling of the above exception, another exception occurred:\n",
      "\n",
      "Traceback (most recent call last):\n",
      "  File \"/Users/alex/opt/anaconda3/envs/st/lib/python3.8/site-packages/streamlit/script_runner.py\", line 354, in _run_script\n",
      "    exec(code, module.__dict__)\n",
      "  File \"/Users/alex/Documents/Школа_DS_Сбер/Итоговый проект/run_simple_transformers_streamlit_app.py\", line 5, in <module>\n",
      "    streamlit_runner()\n",
      "  File \"/Users/alex/opt/anaconda3/envs/st/lib/python3.8/site-packages/simpletransformers/streamlit/simple_view.py\", line 225, in streamlit_runner\n",
      "    model, model_class = load_model(\n",
      "  File \"/Users/alex/opt/anaconda3/envs/st/lib/python3.8/site-packages/streamlit/legacy_caching/caching.py\", line 574, in wrapped_func\n",
      "    return get_or_create_cached_value()\n",
      "  File \"/Users/alex/opt/anaconda3/envs/st/lib/python3.8/site-packages/streamlit/legacy_caching/caching.py\", line 558, in get_or_create_cached_value\n",
      "    return_value = func(*args, **kwargs)\n",
      "  File \"/Users/alex/opt/anaconda3/envs/st/lib/python3.8/site-packages/simpletransformers/streamlit/simple_view.py\", line 67, in load_model\n",
      "    model = create_model(\n",
      "  File \"/Users/alex/opt/anaconda3/envs/st/lib/python3.8/site-packages/simpletransformers/streamlit/simple_view.py\", line 93, in create_model\n",
      "    return ClassificationModel(\n",
      "  File \"/Users/alex/opt/anaconda3/envs/st/lib/python3.8/site-packages/simpletransformers/classification/classification_model.py\", line 388, in __init__\n",
      "    raise ValueError(\n",
      "ValueError: 'use_cuda' set to True when cuda is unavailable. Make sure CUDA is available or set use_cuda=False.\n",
      "\n",
      "2023-01-15 20:54:07.964 Traceback (most recent call last):\n",
      "  File \"/Users/alex/opt/anaconda3/envs/st/lib/python3.8/site-packages/streamlit/legacy_caching/caching.py\", line 540, in get_or_create_cached_value\n",
      "    return_value = _read_from_cache(\n",
      "  File \"/Users/alex/opt/anaconda3/envs/st/lib/python3.8/site-packages/streamlit/legacy_caching/caching.py\", line 339, in _read_from_cache\n",
      "    raise e\n",
      "  File \"/Users/alex/opt/anaconda3/envs/st/lib/python3.8/site-packages/streamlit/legacy_caching/caching.py\", line 324, in _read_from_cache\n",
      "    return _read_from_mem_cache(\n",
      "  File \"/Users/alex/opt/anaconda3/envs/st/lib/python3.8/site-packages/streamlit/legacy_caching/caching.py\", line 242, in _read_from_mem_cache\n",
      "    raise CacheKeyNotFoundError(\"Key not found in mem cache\")\n",
      "streamlit.legacy_caching.caching.CacheKeyNotFoundError: Key not found in mem cache\n",
      "\n",
      "During handling of the above exception, another exception occurred:\n",
      "\n",
      "Traceback (most recent call last):\n",
      "  File \"/Users/alex/opt/anaconda3/envs/st/lib/python3.8/site-packages/streamlit/script_runner.py\", line 354, in _run_script\n",
      "    exec(code, module.__dict__)\n",
      "  File \"/Users/alex/Documents/Школа_DS_Сбер/Итоговый проект/run_simple_transformers_streamlit_app.py\", line 5, in <module>\n",
      "    streamlit_runner()\n",
      "  File \"/Users/alex/opt/anaconda3/envs/st/lib/python3.8/site-packages/simpletransformers/streamlit/simple_view.py\", line 225, in streamlit_runner\n",
      "    model, model_class = load_model(\n",
      "  File \"/Users/alex/opt/anaconda3/envs/st/lib/python3.8/site-packages/streamlit/legacy_caching/caching.py\", line 574, in wrapped_func\n",
      "    return get_or_create_cached_value()\n",
      "  File \"/Users/alex/opt/anaconda3/envs/st/lib/python3.8/site-packages/streamlit/legacy_caching/caching.py\", line 558, in get_or_create_cached_value\n",
      "    return_value = func(*args, **kwargs)\n",
      "  File \"/Users/alex/opt/anaconda3/envs/st/lib/python3.8/site-packages/simpletransformers/streamlit/simple_view.py\", line 67, in load_model\n",
      "    model = create_model(\n",
      "  File \"/Users/alex/opt/anaconda3/envs/st/lib/python3.8/site-packages/simpletransformers/streamlit/simple_view.py\", line 93, in create_model\n",
      "    return ClassificationModel(\n",
      "  File \"/Users/alex/opt/anaconda3/envs/st/lib/python3.8/site-packages/simpletransformers/classification/classification_model.py\", line 388, in __init__\n",
      "    raise ValueError(\n",
      "ValueError: 'use_cuda' set to True when cuda is unavailable. Make sure CUDA is available or set use_cuda=False.\n",
      "\n"
     ]
    },
    {
     "name": "stderr",
     "output_type": "stream",
     "text": [
      "2023-01-15 20:59:41.422 Traceback (most recent call last):\n",
      "  File \"/Users/alex/opt/anaconda3/envs/st/lib/python3.8/site-packages/streamlit/script_runner.py\", line 354, in _run_script\n",
      "    exec(code, module.__dict__)\n",
      "  File \"/Users/alex/Documents/Школа_DS_Сбер/Итоговый проект/run_simple_transformers_streamlit_app.py\", line 5, in <module>\n",
      "    streamlit_runner()\n",
      "  File \"/Users/alex/opt/anaconda3/envs/st/lib/python3.8/site-packages/simpletransformers/streamlit/simple_view.py\", line 220, in streamlit_runner\n",
      "    if manual_model_load(model_class, model_type, model_name):\n",
      "  File \"/Users/alex/opt/anaconda3/envs/st/lib/python3.8/site-packages/simpletransformers/streamlit/streamlit_utils.py\", line 60, in wrapped_func\n",
      "    raise st.ScriptRunner.StopException\n",
      "AttributeError: module 'streamlit' has no attribute 'ScriptRunner'\n",
      "\n",
      "2023-01-15 21:00:10.964 Traceback (most recent call last):\n",
      "  File \"/Users/alex/opt/anaconda3/envs/st/lib/python3.8/site-packages/streamlit/script_runner.py\", line 354, in _run_script\n",
      "    exec(code, module.__dict__)\n",
      "  File \"/Users/alex/Documents/Школа_DS_Сбер/Итоговый проект/run_simple_transformers_streamlit_app.py\", line 5, in <module>\n",
      "    streamlit_runner()\n",
      "  File \"/Users/alex/opt/anaconda3/envs/st/lib/python3.8/site-packages/simpletransformers/streamlit/simple_view.py\", line 220, in streamlit_runner\n",
      "    if manual_model_load(model_class, model_type, model_name):\n",
      "  File \"/Users/alex/opt/anaconda3/envs/st/lib/python3.8/site-packages/simpletransformers/streamlit/streamlit_utils.py\", line 60, in wrapped_func\n",
      "    raise st.ScriptRunner.StopException\n",
      "AttributeError: module 'streamlit' has no attribute 'ScriptRunner'\n",
      "\n",
      "2023-01-15 21:00:13.402 Traceback (most recent call last):\n",
      "  File \"/Users/alex/opt/anaconda3/envs/st/lib/python3.8/site-packages/streamlit/script_runner.py\", line 354, in _run_script\n",
      "    exec(code, module.__dict__)\n",
      "  File \"/Users/alex/Documents/Школа_DS_Сбер/Итоговый проект/run_simple_transformers_streamlit_app.py\", line 5, in <module>\n",
      "    streamlit_runner()\n",
      "  File \"/Users/alex/opt/anaconda3/envs/st/lib/python3.8/site-packages/simpletransformers/streamlit/simple_view.py\", line 220, in streamlit_runner\n",
      "    if manual_model_load(model_class, model_type, model_name):\n",
      "  File \"/Users/alex/opt/anaconda3/envs/st/lib/python3.8/site-packages/simpletransformers/streamlit/streamlit_utils.py\", line 60, in wrapped_func\n",
      "    raise st.ScriptRunner.StopException\n",
      "AttributeError: module 'streamlit' has no attribute 'ScriptRunner'\n",
      "\n",
      "2023-01-15 21:00:20.731 Traceback (most recent call last):\n",
      "  File \"/Users/alex/opt/anaconda3/envs/st/lib/python3.8/site-packages/streamlit/script_runner.py\", line 354, in _run_script\n",
      "    exec(code, module.__dict__)\n",
      "  File \"/Users/alex/Documents/Школа_DS_Сбер/Итоговый проект/run_simple_transformers_streamlit_app.py\", line 5, in <module>\n",
      "    streamlit_runner()\n",
      "  File \"/Users/alex/opt/anaconda3/envs/st/lib/python3.8/site-packages/simpletransformers/streamlit/simple_view.py\", line 220, in streamlit_runner\n",
      "    if manual_model_load(model_class, model_type, model_name):\n",
      "  File \"/Users/alex/opt/anaconda3/envs/st/lib/python3.8/site-packages/simpletransformers/streamlit/streamlit_utils.py\", line 60, in wrapped_func\n",
      "    raise st.ScriptRunner.StopException\n",
      "AttributeError: module 'streamlit' has no attribute 'ScriptRunner'\n",
      "\n",
      "2023-01-15 21:00:23.097 Traceback (most recent call last):\n",
      "  File \"/Users/alex/opt/anaconda3/envs/st/lib/python3.8/site-packages/streamlit/script_runner.py\", line 354, in _run_script\n",
      "    exec(code, module.__dict__)\n",
      "  File \"/Users/alex/Documents/Школа_DS_Сбер/Итоговый проект/run_simple_transformers_streamlit_app.py\", line 5, in <module>\n",
      "    streamlit_runner()\n",
      "  File \"/Users/alex/opt/anaconda3/envs/st/lib/python3.8/site-packages/simpletransformers/streamlit/simple_view.py\", line 220, in streamlit_runner\n",
      "    if manual_model_load(model_class, model_type, model_name):\n",
      "  File \"/Users/alex/opt/anaconda3/envs/st/lib/python3.8/site-packages/simpletransformers/streamlit/streamlit_utils.py\", line 60, in wrapped_func\n",
      "    raise st.ScriptRunner.StopException\n",
      "AttributeError: module 'streamlit' has no attribute 'ScriptRunner'\n",
      "\n",
      "2023-01-15 21:00:30.256 Traceback (most recent call last):\n",
      "  File \"/Users/alex/opt/anaconda3/envs/st/lib/python3.8/site-packages/streamlit/legacy_caching/caching.py\", line 540, in get_or_create_cached_value\n",
      "    return_value = _read_from_cache(\n",
      "  File \"/Users/alex/opt/anaconda3/envs/st/lib/python3.8/site-packages/streamlit/legacy_caching/caching.py\", line 339, in _read_from_cache\n",
      "    raise e\n",
      "  File \"/Users/alex/opt/anaconda3/envs/st/lib/python3.8/site-packages/streamlit/legacy_caching/caching.py\", line 324, in _read_from_cache\n",
      "    return _read_from_mem_cache(\n",
      "  File \"/Users/alex/opt/anaconda3/envs/st/lib/python3.8/site-packages/streamlit/legacy_caching/caching.py\", line 242, in _read_from_mem_cache\n",
      "    raise CacheKeyNotFoundError(\"Key not found in mem cache\")\n",
      "streamlit.legacy_caching.caching.CacheKeyNotFoundError: Key not found in mem cache\n",
      "\n",
      "During handling of the above exception, another exception occurred:\n",
      "\n",
      "Traceback (most recent call last):\n",
      "  File \"/Users/alex/opt/anaconda3/envs/st/lib/python3.8/site-packages/streamlit/script_runner.py\", line 354, in _run_script\n",
      "    exec(code, module.__dict__)\n",
      "  File \"/Users/alex/Documents/Школа_DS_Сбер/Итоговый проект/run_simple_transformers_streamlit_app.py\", line 5, in <module>\n",
      "    streamlit_runner()\n",
      "  File \"/Users/alex/opt/anaconda3/envs/st/lib/python3.8/site-packages/simpletransformers/streamlit/simple_view.py\", line 225, in streamlit_runner\n",
      "    model, model_class = load_model(\n",
      "  File \"/Users/alex/opt/anaconda3/envs/st/lib/python3.8/site-packages/streamlit/legacy_caching/caching.py\", line 574, in wrapped_func\n",
      "    return get_or_create_cached_value()\n",
      "  File \"/Users/alex/opt/anaconda3/envs/st/lib/python3.8/site-packages/streamlit/legacy_caching/caching.py\", line 558, in get_or_create_cached_value\n",
      "    return_value = func(*args, **kwargs)\n",
      "  File \"/Users/alex/opt/anaconda3/envs/st/lib/python3.8/site-packages/simpletransformers/streamlit/simple_view.py\", line 67, in load_model\n",
      "    model = create_model(\n",
      "  File \"/Users/alex/opt/anaconda3/envs/st/lib/python3.8/site-packages/simpletransformers/streamlit/simple_view.py\", line 93, in create_model\n",
      "    return ClassificationModel(\n",
      "  File \"/Users/alex/opt/anaconda3/envs/st/lib/python3.8/site-packages/simpletransformers/classification/classification_model.py\", line 388, in __init__\n",
      "    raise ValueError(\n",
      "ValueError: 'use_cuda' set to True when cuda is unavailable. Make sure CUDA is available or set use_cuda=False.\n",
      "\n",
      "2023-01-15 21:01:10.333 Traceback (most recent call last):\n",
      "  File \"/Users/alex/opt/anaconda3/envs/st/lib/python3.8/site-packages/streamlit/legacy_caching/caching.py\", line 540, in get_or_create_cached_value\n",
      "    return_value = _read_from_cache(\n",
      "  File \"/Users/alex/opt/anaconda3/envs/st/lib/python3.8/site-packages/streamlit/legacy_caching/caching.py\", line 339, in _read_from_cache\n",
      "    raise e\n",
      "  File \"/Users/alex/opt/anaconda3/envs/st/lib/python3.8/site-packages/streamlit/legacy_caching/caching.py\", line 324, in _read_from_cache\n",
      "    return _read_from_mem_cache(\n",
      "  File \"/Users/alex/opt/anaconda3/envs/st/lib/python3.8/site-packages/streamlit/legacy_caching/caching.py\", line 242, in _read_from_mem_cache\n",
      "    raise CacheKeyNotFoundError(\"Key not found in mem cache\")\n",
      "streamlit.legacy_caching.caching.CacheKeyNotFoundError: Key not found in mem cache\n",
      "\n",
      "During handling of the above exception, another exception occurred:\n",
      "\n",
      "Traceback (most recent call last):\n",
      "  File \"/Users/alex/opt/anaconda3/envs/st/lib/python3.8/site-packages/streamlit/script_runner.py\", line 354, in _run_script\n",
      "    exec(code, module.__dict__)\n",
      "  File \"/Users/alex/Documents/Школа_DS_Сбер/Итоговый проект/run_simple_transformers_streamlit_app.py\", line 5, in <module>\n",
      "    streamlit_runner()\n",
      "  File \"/Users/alex/opt/anaconda3/envs/st/lib/python3.8/site-packages/simpletransformers/streamlit/simple_view.py\", line 225, in streamlit_runner\n",
      "    model, model_class = load_model(\n",
      "  File \"/Users/alex/opt/anaconda3/envs/st/lib/python3.8/site-packages/streamlit/legacy_caching/caching.py\", line 574, in wrapped_func\n",
      "    return get_or_create_cached_value()\n",
      "  File \"/Users/alex/opt/anaconda3/envs/st/lib/python3.8/site-packages/streamlit/legacy_caching/caching.py\", line 558, in get_or_create_cached_value\n",
      "    return_value = func(*args, **kwargs)\n",
      "  File \"/Users/alex/opt/anaconda3/envs/st/lib/python3.8/site-packages/simpletransformers/streamlit/simple_view.py\", line 67, in load_model\n",
      "    model = create_model(\n",
      "  File \"/Users/alex/opt/anaconda3/envs/st/lib/python3.8/site-packages/simpletransformers/streamlit/simple_view.py\", line 93, in create_model\n",
      "    return ClassificationModel(\n",
      "  File \"/Users/alex/opt/anaconda3/envs/st/lib/python3.8/site-packages/simpletransformers/classification/classification_model.py\", line 388, in __init__\n",
      "    raise ValueError(\n",
      "ValueError: 'use_cuda' set to True when cuda is unavailable. Make sure CUDA is available or set use_cuda=False.\n",
      "\n"
     ]
    },
    {
     "name": "stderr",
     "output_type": "stream",
     "text": [
      "2023-01-15 21:01:12.042 Traceback (most recent call last):\n",
      "  File \"/Users/alex/opt/anaconda3/envs/st/lib/python3.8/site-packages/streamlit/legacy_caching/caching.py\", line 540, in get_or_create_cached_value\n",
      "    return_value = _read_from_cache(\n",
      "  File \"/Users/alex/opt/anaconda3/envs/st/lib/python3.8/site-packages/streamlit/legacy_caching/caching.py\", line 339, in _read_from_cache\n",
      "    raise e\n",
      "  File \"/Users/alex/opt/anaconda3/envs/st/lib/python3.8/site-packages/streamlit/legacy_caching/caching.py\", line 324, in _read_from_cache\n",
      "    return _read_from_mem_cache(\n",
      "  File \"/Users/alex/opt/anaconda3/envs/st/lib/python3.8/site-packages/streamlit/legacy_caching/caching.py\", line 242, in _read_from_mem_cache\n",
      "    raise CacheKeyNotFoundError(\"Key not found in mem cache\")\n",
      "streamlit.legacy_caching.caching.CacheKeyNotFoundError: Key not found in mem cache\n",
      "\n",
      "During handling of the above exception, another exception occurred:\n",
      "\n",
      "Traceback (most recent call last):\n",
      "  File \"/Users/alex/opt/anaconda3/envs/st/lib/python3.8/site-packages/streamlit/script_runner.py\", line 354, in _run_script\n",
      "    exec(code, module.__dict__)\n",
      "  File \"/Users/alex/Documents/Школа_DS_Сбер/Итоговый проект/run_simple_transformers_streamlit_app.py\", line 5, in <module>\n",
      "    streamlit_runner()\n",
      "  File \"/Users/alex/opt/anaconda3/envs/st/lib/python3.8/site-packages/simpletransformers/streamlit/simple_view.py\", line 225, in streamlit_runner\n",
      "    model, model_class = load_model(\n",
      "  File \"/Users/alex/opt/anaconda3/envs/st/lib/python3.8/site-packages/streamlit/legacy_caching/caching.py\", line 574, in wrapped_func\n",
      "    return get_or_create_cached_value()\n",
      "  File \"/Users/alex/opt/anaconda3/envs/st/lib/python3.8/site-packages/streamlit/legacy_caching/caching.py\", line 558, in get_or_create_cached_value\n",
      "    return_value = func(*args, **kwargs)\n",
      "  File \"/Users/alex/opt/anaconda3/envs/st/lib/python3.8/site-packages/simpletransformers/streamlit/simple_view.py\", line 67, in load_model\n",
      "    model = create_model(\n",
      "  File \"/Users/alex/opt/anaconda3/envs/st/lib/python3.8/site-packages/simpletransformers/streamlit/simple_view.py\", line 93, in create_model\n",
      "    return ClassificationModel(\n",
      "  File \"/Users/alex/opt/anaconda3/envs/st/lib/python3.8/site-packages/simpletransformers/classification/classification_model.py\", line 388, in __init__\n",
      "    raise ValueError(\n",
      "ValueError: 'use_cuda' set to True when cuda is unavailable. Make sure CUDA is available or set use_cuda=False.\n",
      "\n"
     ]
    },
    {
     "name": "stdout",
     "output_type": "stream",
     "text": [
      "  Stopping...\n"
     ]
    },
    {
     "data": {
      "text/plain": [
       "0"
      ]
     },
     "execution_count": 275,
     "metadata": {},
     "output_type": "execute_result"
    }
   ],
   "source": [
    "os.system(\"simple-viewer\")\n"
   ]
  },
  {
   "cell_type": "code",
   "execution_count": 267,
   "id": "f2f19ecc",
   "metadata": {},
   "outputs": [],
   "source": [
    "# pip install streamlit"
   ]
  },
  {
   "cell_type": "code",
   "execution_count": 265,
   "id": "d686d7e7",
   "metadata": {},
   "outputs": [
    {
     "name": "stdout",
     "output_type": "stream",
     "text": [
      "Collecting watchdog\n",
      "  Downloading watchdog-2.2.1-cp38-cp38-macosx_10_9_x86_64.whl (88 kB)\n",
      "\u001b[2K     \u001b[90m━━━━━━━━━━━━━━━━━━━━━━━━━━━━━━━━━━━━━━━\u001b[0m \u001b[32m88.1/88.1 kB\u001b[0m \u001b[31m249.0 kB/s\u001b[0m eta \u001b[36m0:00:00\u001b[0ma \u001b[36m0:00:01\u001b[0m\n",
      "\u001b[?25hInstalling collected packages: watchdog\n",
      "Successfully installed watchdog-2.2.1\n",
      "Note: you may need to restart the kernel to use updated packages.\n"
     ]
    }
   ],
   "source": [
    "# pip install watchdog"
   ]
  },
  {
   "cell_type": "code",
   "execution_count": 276,
   "id": "a9d15e11",
   "metadata": {},
   "outputs": [],
   "source": [
    "script = '''\"\"\"\n",
    "# My first app\n",
    "Here's our first attempt at using data to create a table:\n",
    "\"\"\"\n",
    "\n",
    "import streamlit as st\n",
    "import pandas as pd\n",
    "df = pd.DataFrame({\n",
    "  'first column': [1, 2, 3, 4],\n",
    "  'second column': [10, 20, 30, 40]\n",
    "})\n",
    "\n",
    "df'''"
   ]
  },
  {
   "cell_type": "code",
   "execution_count": 278,
   "id": "44557cb4",
   "metadata": {},
   "outputs": [],
   "source": [
    "with open('test.py', 'w') as f:\n",
    "    f.write(script)"
   ]
  },
  {
   "cell_type": "code",
   "execution_count": null,
   "id": "12b01df3",
   "metadata": {},
   "outputs": [
    {
     "name": "stderr",
     "output_type": "stream",
     "text": [
      "2023-01-15 21:15:53.657 INFO    numexpr.utils: NumExpr defaulting to 8 threads.\n"
     ]
    },
    {
     "name": "stdout",
     "output_type": "stream",
     "text": [
      "\n",
      "  You can now view your Streamlit app in your browser.\n",
      "\n",
      "  Local URL: http://localhost:8502\n",
      "  Network URL: http://192.168.1.3:8502\n",
      "\n"
     ]
    }
   ],
   "source": [
    "os.system(\"streamlit run test.py\")\n"
   ]
  },
  {
   "cell_type": "code",
   "execution_count": null,
   "id": "5a7844aa",
   "metadata": {},
   "outputs": [],
   "source": [
    "import streamlit as st\n"
   ]
  }
 ],
 "metadata": {
  "kernelspec": {
   "display_name": "Python 3 (ipykernel)",
   "language": "python",
   "name": "python3"
  },
  "language_info": {
   "codemirror_mode": {
    "name": "ipython",
    "version": 3
   },
   "file_extension": ".py",
   "mimetype": "text/x-python",
   "name": "python",
   "nbconvert_exporter": "python",
   "pygments_lexer": "ipython3",
   "version": "3.8.15"
  }
 },
 "nbformat": 4,
 "nbformat_minor": 5
}
